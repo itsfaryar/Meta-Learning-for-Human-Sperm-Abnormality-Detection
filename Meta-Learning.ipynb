{
  "cells": [
    {
      "cell_type": "markdown",
      "metadata": {
        "id": "RwbwnPEABlqj"
      },
      "source": [
        "# **Libraries & Constants**"
      ]
    },
    {
      "cell_type": "code",
      "execution_count": null,
      "metadata": {
        "id": "M17F45lm21Qp"
      },
      "outputs": [],
      "source": [
        "# download qpth package and fix the bug in setup.py then install it\n",
        "!wget https://github.com/amirezzati/Meta-Learning-for-Human-Sperm-Abnormality-Detection/raw/main/Requirements/qpth-0.0.15.tar.gz\n",
        "!tar -xzvf qpth-0.0.15.tar.gz\n",
        "!python qpth-0.0.15/setup.py install"
      ]
    },
    {
      "cell_type": "code",
      "execution_count": null,
      "metadata": {
        "id": "WlSYV0cPvL01"
      },
      "outputs": [],
      "source": [
        "!pip install learn2learn"
      ]
    },
    {
      "cell_type": "code",
      "execution_count": 3,
      "metadata": {
        "id": "sxtqenWVBXFa"
      },
      "outputs": [],
      "source": [
        "from tqdm import tqdm\n",
        "import random\n",
        "\n",
        "import learn2learn as l2l\n",
        "import torch\n",
        "import torchvision\n",
        "from torch import nn, optim\n",
        "from torch.optim import Optimizer, Adam\n",
        "from torch.utils.data import DataLoader, Dataset, Sampler\n",
        "from torch.utils.data import SubsetRandomSampler, ConcatDataset\n",
        "from torch.utils.data import random_split\n",
        "from torchvision.io import read_image\n",
        "from torchvision import transforms as t\n",
        "from torchvision.transforms import functional as F\n",
        "\n",
        "# cross-validaion and evaluation tools\n",
        "from sklearn.metrics import classification_report\n",
        "from sklearn import metrics\n",
        "\n",
        "import cv2\n",
        "import pandas as pd\n",
        "import tensorflow as tf\n",
        "import numpy as np\n",
        "import PIL\n",
        "from matplotlib import pyplot as plt\n",
        "import os\n",
        "from copy import deepcopy\n",
        "from google.colab import drive\n",
        "\n",
        "from typing import Callable, Union\n",
        "from collections import OrderedDict\n",
        "\n",
        "from tqdm import trange\n",
        "import time"
      ]
    },
    {
      "cell_type": "code",
      "execution_count": null,
      "metadata": {
        "id": "8tZpefdcEdrp"
      },
      "outputs": [],
      "source": [
        "drive.mount('/content/drive')\n",
        "data_path = \"/content/drive/MyDrive/AI Projects/Meta-learning vision project/mhsma-dataset sperm images/mhsma/\"\n",
        "# data_path = \"/content/drive/MyDrive/AI Projects/mhsma-dataset/mhsma/\""
      ]
    },
    {
      "cell_type": "markdown",
      "metadata": {
        "id": "nqEhjDPDF4xQ"
      },
      "source": [
        "# **Preprocessing**"
      ]
    },
    {
      "cell_type": "code",
      "execution_count": 5,
      "metadata": {
        "id": "C9PW6zBt4g0M"
      },
      "outputs": [],
      "source": [
        "class DatasetPair(Dataset):\n",
        "  def __init__(self, x, y, transform=None, target_transform=None):\n",
        "    self.img_labels = y\n",
        "    self.imgs = x\n",
        "    self.transform = transform\n",
        "    self.target_transform = target_transform\n",
        "\n",
        "  def __len__(self):\n",
        "    return len(self.img_labels)\n",
        "\n",
        "  def __getitem__(self, idx):\n",
        "    image = self.imgs[idx]\n",
        "    label = self.img_labels[idx]\n",
        "    # if self.transform:\n",
        "    #     image = self.transform(image)\n",
        "    # if self.target_transform:\n",
        "    #     label = self.target_transform(label)\n",
        "    return image, label"
      ]
    },
    {
      "cell_type": "code",
      "execution_count": 6,
      "metadata": {
        "id": "wq0o7-koF9MB"
      },
      "outputs": [],
      "source": [
        "# import dataset from path\n",
        "threeChannelImg = lambda x: np.stack((x, x, x), axis=0)\n",
        "\n",
        "def constructDataset(data_shape=64, target_type='head', channel_size=3):\n",
        "  # --------- Load datasets -----------\n",
        "  x_train = np.load(data_path + 'x_'+str(data_shape)+'_train.npy')\n",
        "  x_dev = np.load(data_path + 'x_'+str(data_shape)+'_valid.npy')\n",
        "  x_test = np.load(data_path + 'x_'+str(data_shape)+'_test.npy')\n",
        "\n",
        "  if target_type == 'acrosome':\n",
        "    y_train = np.load(data_path + 'y_acrosome_train.npy')\n",
        "    y_dev = np.load(data_path + 'y_acrosome_valid.npy')\n",
        "    y_test = np.load(data_path + 'y_acrosome_test.npy')\n",
        "\n",
        "  elif target_type == 'head':\n",
        "    y_train = np.load(data_path + 'y_head_train.npy')\n",
        "    y_dev = np.load(data_path + 'y_head_valid.npy')\n",
        "    y_test = np.load(data_path + 'y_head_test.npy')\n",
        "\n",
        "  elif target_type == 'tail':\n",
        "    y_train = np.load(data_path + 'y_tail_train.npy')\n",
        "    y_dev = np.load(data_path + 'y_tail_valid.npy')\n",
        "    y_test = np.load(data_path + 'y_tail_test.npy')\n",
        "\n",
        "  elif target_type == 'vacuole':\n",
        "    y_train = np.load(data_path + 'y_vacuole_train.npy')\n",
        "    y_dev = np.load(data_path + 'y_vacuole_valid.npy')\n",
        "    y_test = np.load(data_path + 'y_vacuole_test.npy')\n",
        "\n",
        "  print('x_train.shape: ', x_train.shape)\n",
        "  print('x_dev.shape: ', x_dev.shape)\n",
        "  print('x_test.shape: ', x_test.shape)\n",
        "  print('y_acrosome_train.shape: ', y_train.shape) # y = 1 abnormal,  y = 0 normal\n",
        "\n",
        "  # --------- Preprocess datasets -----------\n",
        "  if channel_size == 3:\n",
        "    x_train = np.array([threeChannelImg(sample) for sample in x_train], dtype=np.float32)\n",
        "    x_test = np.array([threeChannelImg(sample) for sample in x_test], dtype=np.float32)\n",
        "    x_dev = np.array([threeChannelImg(sample) for sample in x_dev], dtype=np.float32)\n",
        "\n",
        "  # conver x and y to torch tensor\n",
        "  x_train_tensor = torch.from_numpy(x_train)\n",
        "  x_test_tensor = torch.from_numpy(x_test)\n",
        "  x_dev_tensor = torch.from_numpy(x_dev)\n",
        "\n",
        "  y_train_tensor = torch.from_numpy(y_train)\n",
        "  y_test_tensor = torch.from_numpy(y_test)\n",
        "  y_dev_tensor = torch.from_numpy(y_dev)\n",
        "\n",
        "  # create Dataset class for each sets\n",
        "  trainset = DatasetPair(x_train_tensor, y_train_tensor)\n",
        "  devset = DatasetPair(x_dev_tensor, y_dev_tensor)\n",
        "  testset = DatasetPair(x_test_tensor, y_test_tensor)\n",
        "\n",
        "  return trainset, devset, testset\n",
        "\n",
        "def preprocessImages(img):\n",
        "  #brightness = -150\n",
        "  # Adjusts the contrast by scaling the pixel values by 2.3\n",
        "  #contrast = 2.9\n",
        "  #out=np.zeros(img.shape, img.dtype)\n",
        "\n",
        "  #out = cv2.addWeighted(img, contrast, np.zeros(img.shape, img.dtype), 0, brightness)\n",
        "  #out =  cv2.normalize(out,   np.zeros(img.shape, img.dtype), 0, 255, cv2.NORM_MINMAX)\n",
        "  #out = cv2.Canny(out, 55, 110)\n",
        "  #out = cv2.resize(out, (size, size))\n",
        "  return img"
      ]
    },
    {
      "cell_type": "code",
      "execution_count": 7,
      "metadata": {
        "colab": {
          "base_uri": "https://localhost:8080/"
        },
        "id": "mPdqGc_CI1Am",
        "outputId": "294774e1-db70-4357-8e51-c847a2637af9"
      },
      "outputs": [
        {
          "name": "stdout",
          "output_type": "stream",
          "text": [
            "x_train.shape:  (1000, 64, 64)\n",
            "x_dev.shape:  (240, 64, 64)\n",
            "x_test.shape:  (300, 64, 64)\n",
            "y_acrosome_train.shape:  (1000,)\n",
            "----------------------------------------\n",
            "each image size:  torch.Size([3, 64, 64])\n",
            "each label size:  torch.Size([])\n"
          ]
        }
      ],
      "source": [
        "trainset, devset, testset = constructDataset(data_shape=64, target_type='head')\n",
        "\n",
        "print('--'*20 + '\\n' + 'each image size: ', trainset[0][0].shape)\n",
        "print('each label size: ', trainset[0][1].shape)"
      ]
    },
    {
      "cell_type": "markdown",
      "metadata": {
        "id": "PmvNFGOdWwuR"
      },
      "source": [
        "Example"
      ]
    },
    {
      "cell_type": "code",
      "execution_count": 8,
      "metadata": {
        "colab": {
          "base_uri": "https://localhost:8080/",
          "height": 449
        },
        "id": "8uFRO01RMALV",
        "outputId": "3384e640-6c5a-4dab-dd81-3f76fa085f75"
      },
      "outputs": [
        {
          "name": "stdout",
          "output_type": "stream",
          "text": [
            "tensor(0, dtype=torch.uint8)\n"
          ]
        },
        {
          "data": {
            "image/png": "[encoded data removed]",
            "text/plain": [
              "<Figure size 640x480 with 1 Axes>"
            ]
          },
          "metadata": {},
          "output_type": "display_data"
        }
      ],
      "source": [
        "plt.imshow(trainset.imgs[30][0])\n",
        "print(trainset.img_labels[30])"
      ]
    },
    {
      "cell_type": "code",
      "execution_count": 9,
      "metadata": {
        "id": "tqVE53S0JVZd"
      },
      "outputs": [],
      "source": [
        "def show(dataset, N=5, labels=None, figsize=(20, 20)):\n",
        "    \"\"\" Shows random N samples from the dataset \"\"\"\n",
        "    idxs = np.random.randint(0, len(dataset)-1, N)\n",
        "\n",
        "    fig, axs = plt.subplots(ncols=len(idxs), squeeze=False, figsize=figsize)\n",
        "\n",
        "    for i, idx in enumerate(idxs):\n",
        "        sample = dataset[idx]\n",
        "        if isinstance(sample, tuple): # then it is in the form (x, y)\n",
        "          sample, label = sample\n",
        "\n",
        "          if isinstance(label, torch.Tensor):\n",
        "            label = int(label.item())\n",
        "          if labels:\n",
        "            label = labels[label]\n",
        "          axs[0, i].title.set_text(label)\n",
        "        # print(threeChannelImg(sample).shape)\n",
        "        axs[0, i].imshow(sample.type(torch.int16).permute(1, 2, 0))\n",
        "        axs[0, i].set(xticklabels = [], yticklabels = [], xticks = [], yticks = [])\n",
        "\n",
        "    plt.show()"
      ]
    },
    {
      "cell_type": "code",
      "execution_count": 10,
      "metadata": {
        "colab": {
          "base_uri": "https://localhost:8080/",
          "height": 298
        },
        "id": "yhQGC714H_-q",
        "outputId": "8b81539f-7cb8-41d6-f001-7b994f78ee89"
      },
      "outputs": [
        {
          "data": {
            "image/png": "[encoded data removed]",
            "text/plain": [
              "<Figure size 2000x2000 with 5 Axes>"
            ]
          },
          "metadata": {},
          "output_type": "display_data"
        }
      ],
      "source": [
        "idx_to_labels = {0: \"Normal Acrosome\", 1: \"Abnormal Acrosome\"}\n",
        "show(trainset, labels=idx_to_labels)"
      ]
    },
    {
      "cell_type": "code",
      "execution_count": 11,
      "metadata": {
        "colab": {
          "base_uri": "https://localhost:8080/",
          "height": 308
        },
        "id": "_0TDfwhbPKSJ",
        "outputId": "bf0a3cf6-d76a-4f69-a2cd-e2f9396c87dc"
      },
      "outputs": [
        {
          "data": {
            "image/png": "[encoded data removed]",
            "text/plain": [
              "<Figure size 640x480 with 1 Axes>"
            ]
          },
          "metadata": {},
          "output_type": "display_data"
        }
      ],
      "source": [
        "image = trainset.imgs[1][0]\n",
        "plt.subplot(1, 2, 2)\n",
        "plt.title(\"Sample image\")\n",
        "plt.imshow(image)\n",
        "plt.show()"
      ]
    },
    {
      "cell_type": "markdown",
      "metadata": {
        "id": "qUceOsjH_Sgx"
      },
      "source": [
        "# **VGG on Acrosome Targets**"
      ]
    },
    {
      "cell_type": "code",
      "execution_count": 21,
      "metadata": {
        "colab": {
          "base_uri": "https://localhost:8080/",
          "height": 419
        },
        "id": "6pKZlY4Phf2w",
        "outputId": "ff5f3baf-4f33-432b-85a7-abe13c8f73d4"
      },
      "outputs": [
        {
          "name": "stdout",
          "output_type": "stream",
          "text": [
            "x_train.shape:  (1000, 64, 64)\n",
            "x_dev.shape:  (240, 64, 64)\n",
            "x_test.shape:  (300, 64, 64)\n",
            "y_acrosome_train.shape:  (1000,)\n",
            "----------------------------------------\n",
            "each image size:  torch.Size([3, 64, 64])\n",
            "each label size:  torch.Size([])\n"
          ]
        },
        {
          "data": {
            "image/png": "[encoded data removed]",
            "text/plain": [
              "<Figure size 2000x2000 with 5 Axes>"
            ]
          },
          "metadata": {},
          "output_type": "display_data"
        }
      ],
      "source": [
        "trainset, devset, testset = constructDataset(data_shape=64, target_type='acrosome')\n",
        "print('--'*20 + '\\n' + 'each image size: ', trainset.imgs[0].shape)\n",
        "print('each label size: ', trainset.img_labels[0].shape)\n",
        "\n",
        "idx_to_labels = {0: \"Normal Acrosome\", 1: \"Abnormal Acrosome\"}\n",
        "show(trainset, labels=idx_to_labels)"
      ]
    },
    {
      "cell_type": "code",
      "execution_count": 22,
      "metadata": {
        "colab": {
          "base_uri": "https://localhost:8080/"
        },
        "id": "iUNyJMKc_E82",
        "outputId": "d37ab24d-d969-4909-ed22-1d38bb125a3c"
      },
      "outputs": [
        {
          "data": {
            "text/plain": [
              "VGG(\n",
              "  (features): Sequential(\n",
              "    (0): Conv2d(3, 64, kernel_size=(3, 3), stride=(1, 1), padding=(1, 1))\n",
              "    (1): ReLU(inplace=True)\n",
              "    (2): Conv2d(64, 64, kernel_size=(3, 3), stride=(1, 1), padding=(1, 1))\n",
              "    (3): ReLU(inplace=True)\n",
              "    (4): MaxPool2d(kernel_size=2, stride=2, padding=0, dilation=1, ceil_mode=False)\n",
              "    (5): Conv2d(64, 128, kernel_size=(3, 3), stride=(1, 1), padding=(1, 1))\n",
              "    (6): ReLU(inplace=True)\n",
              "    (7): Conv2d(128, 128, kernel_size=(3, 3), stride=(1, 1), padding=(1, 1))\n",
              "    (8): ReLU(inplace=True)\n",
              "    (9): MaxPool2d(kernel_size=2, stride=2, padding=0, dilation=1, ceil_mode=False)\n",
              "    (10): Conv2d(128, 256, kernel_size=(3, 3), stride=(1, 1), padding=(1, 1))\n",
              "    (11): ReLU(inplace=True)\n",
              "    (12): Conv2d(256, 256, kernel_size=(3, 3), stride=(1, 1), padding=(1, 1))\n",
              "    (13): ReLU(inplace=True)\n",
              "    (14): Conv2d(256, 256, kernel_size=(3, 3), stride=(1, 1), padding=(1, 1))\n",
              "    (15): ReLU(inplace=True)\n",
              "    (16): MaxPool2d(kernel_size=2, stride=2, padding=0, dilation=1, ceil_mode=False)\n",
              "    (17): Conv2d(256, 512, kernel_size=(3, 3), stride=(1, 1), padding=(1, 1))\n",
              "    (18): ReLU(inplace=True)\n",
              "    (19): Conv2d(512, 512, kernel_size=(3, 3), stride=(1, 1), padding=(1, 1))\n",
              "    (20): ReLU(inplace=True)\n",
              "    (21): Conv2d(512, 512, kernel_size=(3, 3), stride=(1, 1), padding=(1, 1))\n",
              "    (22): ReLU(inplace=True)\n",
              "    (23): MaxPool2d(kernel_size=2, stride=2, padding=0, dilation=1, ceil_mode=False)\n",
              "    (24): Conv2d(512, 512, kernel_size=(3, 3), stride=(1, 1), padding=(1, 1))\n",
              "    (25): ReLU(inplace=True)\n",
              "    (26): Conv2d(512, 512, kernel_size=(3, 3), stride=(1, 1), padding=(1, 1))\n",
              "    (27): ReLU(inplace=True)\n",
              "    (28): Conv2d(512, 512, kernel_size=(3, 3), stride=(1, 1), padding=(1, 1))\n",
              "    (29): ReLU(inplace=True)\n",
              "    (30): MaxPool2d(kernel_size=2, stride=2, padding=0, dilation=1, ceil_mode=False)\n",
              "  )\n",
              "  (avgpool): AdaptiveAvgPool2d(output_size=(7, 7))\n",
              "  (classifier): Sequential(\n",
              "    (0): Linear(in_features=25088, out_features=4096, bias=True)\n",
              "    (1): ReLU(inplace=True)\n",
              "    (2): Dropout(p=0.5, inplace=False)\n",
              "    (3): Linear(in_features=4096, out_features=4096, bias=True)\n",
              "    (4): ReLU(inplace=True)\n",
              "    (5): Dropout(p=0.5, inplace=False)\n",
              "    (6): Linear(in_features=4096, out_features=2, bias=True)\n",
              "  )\n",
              ")"
            ]
          },
          "execution_count": 22,
          "metadata": {},
          "output_type": "execute_result"
        }
      ],
      "source": [
        "model = torchvision.models.vgg16()\n",
        "model.classifier[6] = nn.Linear(4096, 2)\n",
        "model"
      ]
    },
    {
      "cell_type": "code",
      "execution_count": 23,
      "metadata": {
        "id": "rZ7yC_tRBs3-"
      },
      "outputs": [],
      "source": [
        "class VGG16BinaryClassification(nn.Module):\n",
        "    def __init__(self):\n",
        "        super().__init__()\n",
        "\n",
        "        self.model = torchvision.models.vgg16(pretrained=True)\n",
        "        self.model.classifier[6] = nn.Linear(4096, 2)\n",
        "\n",
        "        unfreeze = ['classifier']\n",
        "        for layer_name, layer in self.model.named_parameters():\n",
        "            for name in unfreeze:\n",
        "                if name in layer_name:\n",
        "                    layer.requires_grad = True\n",
        "                    break\n",
        "                else:\n",
        "                    layer.requires_grad = False\n",
        "\n",
        "    def forward(self, x):\n",
        "        return self.model(x)\n",
        "\n",
        "class VGG19BinaryClassification(nn.Module):\n",
        "    def __init__(self):\n",
        "        super().__init__()\n",
        "\n",
        "        self.model = torchvision.models.vgg19(pretrained=True)\n",
        "        self.model.classifier[6] = nn.Linear(4096, 2)\n",
        "\n",
        "        unfreeze = ['classifier']\n",
        "        for layer_name, layer in self.model.named_parameters():\n",
        "            for name in unfreeze:\n",
        "                if name in layer_name:\n",
        "                    layer.requires_grad = True\n",
        "                    break\n",
        "                else:\n",
        "                    layer.requires_grad = False\n",
        "\n",
        "    def forward(self, x):\n",
        "        return self.model(x)"
      ]
    },
    {
      "cell_type": "code",
      "execution_count": 24,
      "metadata": {
        "id": "h9GgdsqZKO7Y"
      },
      "outputs": [],
      "source": [
        "def evaluate(dataset, model, device='cpu', **dataloader_args):\n",
        "    dataloader = DataLoader(dataset, **dataloader_args)\n",
        "    preds = []\n",
        "    labels = []\n",
        "    with torch.no_grad():\n",
        "        model.eval()\n",
        "        model.to(device)\n",
        "\n",
        "        for x_batch, y_batch in tqdm(dataloader):\n",
        "            x_batch = x_batch.to(device)\n",
        "            y_batch = y_batch.tolist()\n",
        "\n",
        "            outs = model(x_batch).detach().cpu()\n",
        "            predictions = torch.argmax(torch.softmax(outs, 1), 1).tolist()\n",
        "\n",
        "            # extend the `preds` and `labels` lists with predictions and true labels\n",
        "            preds.extend(predictions)\n",
        "            labels.extend(y_batch)\n",
        "\n",
        "    report = classification_report(labels, preds, digits = 3)\n",
        "    report_dict = classification_report(labels, preds, output_dict=True)\n",
        "    print(report)\n",
        "    return report_dict\n",
        "\n",
        "def train(model, loss_fn,\n",
        "          train_loader, val_loader,return_model=False,\n",
        "          device='cpu', lr_adjuster=None, epochs=10):\n",
        "\n",
        "    n_train = len(train_loader.dataset)\n",
        "    n_val = len(val_loader.dataset)\n",
        "\n",
        "    training_losses = []\n",
        "    validation_losses = []\n",
        "\n",
        "    # initialize the model\n",
        "    optimizer = get_optimizer(model)\n",
        "\n",
        "    # pass the model to the given device\n",
        "    model.to(device)\n",
        "\n",
        "    print(\"Number of samples\")\n",
        "    print(\"Training:\", n_train)\n",
        "    print('Validation:', n_val)\n",
        "    for epoch in range(epochs):\n",
        "        # define running losses\n",
        "        epoch_training_running_loss = 0\n",
        "        epoch_val_running_loss = 0\n",
        "\n",
        "        if lr_adjuster:\n",
        "            lr = lr_adjuster(optimizer, epoch)\n",
        "\n",
        "        bar = tqdm(enumerate(train_loader), total=n_train//train_loader.batch_size)\n",
        "        # loop through every batch in the training loader\n",
        "        for batch_idx, (x_batch, y_batch) in bar:\n",
        "            # pass the batches to given device\n",
        "            x_batch, y_batch = x_batch.to(device), y_batch.to(device)\n",
        "\n",
        "            # set the gradients to 0 beforehand\n",
        "            # it can also be written after `optimizer.step()`, just a preference.\n",
        "            outs = model(x_batch)\n",
        "            loss = loss_fn(outs, y_batch)\n",
        "            # calculate the gradients and apply an optimization step\n",
        "            loss.backward()\n",
        "            optimizer.step()\n",
        "            optimizer.zero_grad()\n",
        "\n",
        "            # we can use `.item()` method to read the loss value\n",
        "            # since the loss function automatically calculates the loss by averaging the input size,\n",
        "            # we will multiply it with the batch size to add it\n",
        "            # then we can average it by the whole dataset size\n",
        "            # note: it is also possible to average the loss by the number of batches at the end of the epoch (without multiplying with x_batch.size(0))\n",
        "            # but this approach is more straightforward.\n",
        "            epoch_training_running_loss += (loss.item() * x_batch.size(0))\n",
        "\n",
        "        with torch.no_grad():\n",
        "            model.eval()\n",
        "            vbar = tqdm(val_loader, total=n_val//val_loader.batch_size)\n",
        "            for x_batch, y_batch in vbar:\n",
        "                x_batch, y_batch = x_batch.to(device), y_batch.to(device)\n",
        "\n",
        "                outs = model(x_batch)\n",
        "                loss = loss_fn(outs, y_batch)\n",
        "\n",
        "                epoch_val_running_loss += (loss.item() * x_batch.size(0))\n",
        "            model.train()\n",
        "\n",
        "        average_training_loss = epoch_training_running_loss / n_train\n",
        "        average_validation_loss = epoch_val_running_loss / n_val\n",
        "\n",
        "        training_losses.append(average_training_loss)\n",
        "        validation_losses.append(average_validation_loss)\n",
        "\n",
        "        if lr_adjuster:\n",
        "            print(f\"epoch {epoch+1}/{epochs}, lr={lr} | avg. training loss: {average_training_loss:.3f}, avg. validation loss: {average_validation_loss:.3f}\")\n",
        "        else:\n",
        "            print(f\"epoch {epoch+1}/{epochs} | avg. training loss: {average_training_loss:.3f}, avg. validation loss: {average_validation_loss:.3f}\")\n",
        "\n",
        "\n",
        "    # return the training and validtion losses, also return the model if return_model is True\n",
        "    if return_model:\n",
        "        return training_losses, validation_losses, model\n",
        "    else:\n",
        "        return training_losses, validation_losses\n",
        "\n",
        "def get_optimizer(net):\n",
        "    optimizer = torch.optim.Adam(filter(lambda p: p.requires_grad, net.parameters()), lr=2e-4, betas=(0.9, 0.999), eps=1e-8)\n",
        "    return optimizer"
      ]
    },
    {
      "cell_type": "code",
      "execution_count": 25,
      "metadata": {
        "colab": {
          "base_uri": "https://localhost:8080/",
          "height": 1000
        },
        "id": "kRPDsHfRFCT0",
        "outputId": "1d1387d0-b9f4-48dd-aa41-de5101d6adc0"
      },
      "outputs": [
        {
          "name": "stderr",
          "output_type": "stream",
          "text": [
            "/usr/local/lib/python3.10/dist-packages/torchvision/models/_utils.py:208: UserWarning: The parameter 'pretrained' is deprecated since 0.13 and may be removed in the future, please use 'weights' instead.\n",
            "  warnings.warn(\n",
            "/usr/local/lib/python3.10/dist-packages/torchvision/models/_utils.py:223: UserWarning: Arguments other than a weight enum or `None` for 'weights' are deprecated since 0.13 and may be removed in the future. The current behavior is equivalent to passing `weights=VGG16_Weights.IMAGENET1K_V1`. You can also use `weights=VGG16_Weights.DEFAULT` to get the most up-to-date weights.\n",
            "  warnings.warn(msg)\n"
          ]
        },
        {
          "name": "stdout",
          "output_type": "stream",
          "text": [
            "cuda\n",
            "Number of samples\n",
            "Training: 1000\n",
            "Validation: 240\n"
          ]
        },
        {
          "name": "stderr",
          "output_type": "stream",
          "text": [
            "4it [00:00,  5.31it/s]\n",
            "1it [00:00,  8.98it/s]\n"
          ]
        },
        {
          "name": "stdout",
          "output_type": "stream",
          "text": [
            "epoch 1/30, lr=3e-05 | avg. training loss: 2.969, avg. validation loss: 0.733\n"
          ]
        },
        {
          "name": "stderr",
          "output_type": "stream",
          "text": [
            "4it [00:00,  5.83it/s]\n",
            "1it [00:00,  8.97it/s]\n"
          ]
        },
        {
          "name": "stdout",
          "output_type": "stream",
          "text": [
            "epoch 2/30, lr=0.0001 | avg. training loss: 2.326, avg. validation loss: 0.900\n"
          ]
        },
        {
          "name": "stderr",
          "output_type": "stream",
          "text": [
            "4it [00:00,  5.71it/s]\n",
            "1it [00:00,  8.50it/s]\n"
          ]
        },
        {
          "name": "stdout",
          "output_type": "stream",
          "text": [
            "epoch 3/30, lr=0.0001 | avg. training loss: 1.308, avg. validation loss: 0.615\n"
          ]
        },
        {
          "name": "stderr",
          "output_type": "stream",
          "text": [
            "4it [00:00,  5.84it/s]\n",
            "1it [00:00,  7.14it/s]\n"
          ]
        },
        {
          "name": "stdout",
          "output_type": "stream",
          "text": [
            "epoch 4/30, lr=0.0001 | avg. training loss: 0.821, avg. validation loss: 0.571\n"
          ]
        },
        {
          "name": "stderr",
          "output_type": "stream",
          "text": [
            "4it [00:00,  5.67it/s]\n",
            "1it [00:00,  8.07it/s]\n"
          ]
        },
        {
          "name": "stdout",
          "output_type": "stream",
          "text": [
            "epoch 5/30, lr=0.0001 | avg. training loss: 0.758, avg. validation loss: 0.628\n"
          ]
        },
        {
          "name": "stderr",
          "output_type": "stream",
          "text": [
            "4it [00:00,  5.84it/s]\n",
            "1it [00:00,  8.85it/s]\n"
          ]
        },
        {
          "name": "stdout",
          "output_type": "stream",
          "text": [
            "epoch 6/30, lr=1e-05 | avg. training loss: 0.695, avg. validation loss: 0.614\n"
          ]
        },
        {
          "name": "stderr",
          "output_type": "stream",
          "text": [
            "4it [00:00,  5.62it/s]\n",
            "1it [00:00,  8.74it/s]\n"
          ]
        },
        {
          "name": "stdout",
          "output_type": "stream",
          "text": [
            "epoch 7/30, lr=1e-05 | avg. training loss: 0.667, avg. validation loss: 0.601\n"
          ]
        },
        {
          "name": "stderr",
          "output_type": "stream",
          "text": [
            "4it [00:00,  5.76it/s]\n",
            "1it [00:00,  8.48it/s]\n"
          ]
        },
        {
          "name": "stdout",
          "output_type": "stream",
          "text": [
            "epoch 8/30, lr=1e-05 | avg. training loss: 0.650, avg. validation loss: 0.591\n"
          ]
        },
        {
          "name": "stderr",
          "output_type": "stream",
          "text": [
            "4it [00:00,  5.74it/s]\n",
            "1it [00:00,  8.75it/s]\n"
          ]
        },
        {
          "name": "stdout",
          "output_type": "stream",
          "text": [
            "epoch 9/30, lr=6e-06 | avg. training loss: 0.642, avg. validation loss: 0.587\n"
          ]
        },
        {
          "name": "stderr",
          "output_type": "stream",
          "text": [
            "4it [00:00,  5.52it/s]\n",
            "1it [00:00,  8.61it/s]\n"
          ]
        },
        {
          "name": "stdout",
          "output_type": "stream",
          "text": [
            "epoch 10/30, lr=6e-06 | avg. training loss: 0.658, avg. validation loss: 0.586\n"
          ]
        },
        {
          "name": "stderr",
          "output_type": "stream",
          "text": [
            "4it [00:00,  5.78it/s]\n",
            "1it [00:00,  8.67it/s]\n"
          ]
        },
        {
          "name": "stdout",
          "output_type": "stream",
          "text": [
            "epoch 11/30, lr=6e-06 | avg. training loss: 0.669, avg. validation loss: 0.585\n"
          ]
        },
        {
          "name": "stderr",
          "output_type": "stream",
          "text": [
            "4it [00:00,  5.93it/s]\n",
            "1it [00:00,  9.02it/s]\n"
          ]
        },
        {
          "name": "stdout",
          "output_type": "stream",
          "text": [
            "epoch 12/30, lr=6e-06 | avg. training loss: 0.650, avg. validation loss: 0.586\n"
          ]
        },
        {
          "name": "stderr",
          "output_type": "stream",
          "text": [
            "4it [00:00,  5.83it/s]\n",
            "1it [00:00,  8.74it/s]\n"
          ]
        },
        {
          "name": "stdout",
          "output_type": "stream",
          "text": [
            "epoch 13/30, lr=6e-06 | avg. training loss: 0.647, avg. validation loss: 0.587\n"
          ]
        },
        {
          "name": "stderr",
          "output_type": "stream",
          "text": [
            "4it [00:00,  5.81it/s]\n",
            "1it [00:00,  8.86it/s]\n"
          ]
        },
        {
          "name": "stdout",
          "output_type": "stream",
          "text": [
            "epoch 14/30, lr=6e-06 | avg. training loss: 0.639, avg. validation loss: 0.589\n"
          ]
        },
        {
          "name": "stderr",
          "output_type": "stream",
          "text": [
            "4it [00:00,  5.86it/s]\n",
            "1it [00:00,  8.69it/s]\n"
          ]
        },
        {
          "name": "stdout",
          "output_type": "stream",
          "text": [
            "epoch 15/30, lr=6e-06 | avg. training loss: 0.635, avg. validation loss: 0.591\n"
          ]
        },
        {
          "name": "stderr",
          "output_type": "stream",
          "text": [
            "4it [00:00,  5.81it/s]\n",
            "1it [00:00,  8.92it/s]\n"
          ]
        },
        {
          "name": "stdout",
          "output_type": "stream",
          "text": [
            "epoch 16/30, lr=6e-06 | avg. training loss: 0.617, avg. validation loss: 0.592\n"
          ]
        },
        {
          "name": "stderr",
          "output_type": "stream",
          "text": [
            "4it [00:00,  5.80it/s]\n",
            "1it [00:00,  8.89it/s]\n"
          ]
        },
        {
          "name": "stdout",
          "output_type": "stream",
          "text": [
            "epoch 17/30, lr=6e-06 | avg. training loss: 0.633, avg. validation loss: 0.592\n"
          ]
        },
        {
          "name": "stderr",
          "output_type": "stream",
          "text": [
            "4it [00:00,  5.80it/s]\n",
            "1it [00:00,  8.81it/s]\n"
          ]
        },
        {
          "name": "stdout",
          "output_type": "stream",
          "text": [
            "epoch 18/30, lr=6e-06 | avg. training loss: 0.648, avg. validation loss: 0.592\n"
          ]
        },
        {
          "name": "stderr",
          "output_type": "stream",
          "text": [
            "4it [00:00,  5.73it/s]\n",
            "1it [00:00,  8.69it/s]\n"
          ]
        },
        {
          "name": "stdout",
          "output_type": "stream",
          "text": [
            "epoch 19/30, lr=6e-06 | avg. training loss: 0.646, avg. validation loss: 0.593\n"
          ]
        },
        {
          "name": "stderr",
          "output_type": "stream",
          "text": [
            "4it [00:00,  5.65it/s]\n",
            "1it [00:00,  8.92it/s]\n"
          ]
        },
        {
          "name": "stdout",
          "output_type": "stream",
          "text": [
            "epoch 20/30, lr=6e-06 | avg. training loss: 0.636, avg. validation loss: 0.592\n"
          ]
        },
        {
          "name": "stderr",
          "output_type": "stream",
          "text": [
            "4it [00:00,  5.82it/s]\n",
            "1it [00:00,  8.69it/s]\n"
          ]
        },
        {
          "name": "stdout",
          "output_type": "stream",
          "text": [
            "epoch 21/30, lr=6e-06 | avg. training loss: 0.613, avg. validation loss: 0.591\n"
          ]
        },
        {
          "name": "stderr",
          "output_type": "stream",
          "text": [
            "4it [00:00,  5.69it/s]\n",
            "1it [00:00,  8.97it/s]\n"
          ]
        },
        {
          "name": "stdout",
          "output_type": "stream",
          "text": [
            "epoch 22/30, lr=6e-06 | avg. training loss: 0.608, avg. validation loss: 0.590\n"
          ]
        },
        {
          "name": "stderr",
          "output_type": "stream",
          "text": [
            "4it [00:00,  5.77it/s]\n",
            "1it [00:00,  8.18it/s]\n"
          ]
        },
        {
          "name": "stdout",
          "output_type": "stream",
          "text": [
            "epoch 23/30, lr=6e-06 | avg. training loss: 0.597, avg. validation loss: 0.590\n"
          ]
        },
        {
          "name": "stderr",
          "output_type": "stream",
          "text": [
            "4it [00:00,  5.76it/s]\n",
            "1it [00:00,  8.68it/s]\n"
          ]
        },
        {
          "name": "stdout",
          "output_type": "stream",
          "text": [
            "epoch 24/30, lr=6e-06 | avg. training loss: 0.638, avg. validation loss: 0.590\n"
          ]
        },
        {
          "name": "stderr",
          "output_type": "stream",
          "text": [
            "4it [00:00,  5.66it/s]\n",
            "1it [00:00,  8.57it/s]\n"
          ]
        },
        {
          "name": "stdout",
          "output_type": "stream",
          "text": [
            "epoch 25/30, lr=6e-06 | avg. training loss: 0.622, avg. validation loss: 0.592\n"
          ]
        },
        {
          "name": "stderr",
          "output_type": "stream",
          "text": [
            "4it [00:00,  5.66it/s]\n",
            "1it [00:00,  8.58it/s]\n"
          ]
        },
        {
          "name": "stdout",
          "output_type": "stream",
          "text": [
            "epoch 26/30, lr=6e-06 | avg. training loss: 0.630, avg. validation loss: 0.592\n"
          ]
        },
        {
          "name": "stderr",
          "output_type": "stream",
          "text": [
            "4it [00:00,  5.66it/s]\n",
            "1it [00:00,  8.62it/s]\n"
          ]
        },
        {
          "name": "stdout",
          "output_type": "stream",
          "text": [
            "epoch 27/30, lr=6e-06 | avg. training loss: 0.629, avg. validation loss: 0.593\n"
          ]
        },
        {
          "name": "stderr",
          "output_type": "stream",
          "text": [
            "4it [00:00,  5.67it/s]\n",
            "1it [00:00,  8.79it/s]\n"
          ]
        },
        {
          "name": "stdout",
          "output_type": "stream",
          "text": [
            "epoch 28/30, lr=6e-06 | avg. training loss: 0.626, avg. validation loss: 0.594\n"
          ]
        },
        {
          "name": "stderr",
          "output_type": "stream",
          "text": [
            "4it [00:00,  5.72it/s]\n",
            "1it [00:00,  8.59it/s]\n"
          ]
        },
        {
          "name": "stdout",
          "output_type": "stream",
          "text": [
            "epoch 29/30, lr=6e-06 | avg. training loss: 0.624, avg. validation loss: 0.593\n"
          ]
        },
        {
          "name": "stderr",
          "output_type": "stream",
          "text": [
            "4it [00:00,  5.74it/s]\n",
            "1it [00:00,  8.84it/s]\n"
          ]
        },
        {
          "name": "stdout",
          "output_type": "stream",
          "text": [
            "epoch 30/30, lr=6e-06 | avg. training loss: 0.619, avg. validation loss: 0.593\n"
          ]
        },
        {
          "data": {
            "image/png": "[encoded data removed]",
            "text/plain": [
              "<Figure size 640x480 with 1 Axes>"
            ]
          },
          "metadata": {},
          "output_type": "display_data"
        }
      ],
      "source": [
        "def adjust_lr(optimizer, epoch):\n",
        "    if epoch < 1:\n",
        "        lr = 3e-5\n",
        "\n",
        "    elif epoch < 5:\n",
        "        lr = 1e-4\n",
        "\n",
        "    elif epoch < 8:\n",
        "        lr = 1e-5\n",
        "    else:\n",
        "        lr = 6e-6\n",
        "\n",
        "    for p in optimizer.param_groups:\n",
        "        p['lr'] = lr\n",
        "    return lr\n",
        "\n",
        "train_loader = DataLoader(trainset, batch_size=256, shuffle=True)\n",
        "val_loader = DataLoader(devset, batch_size=256, shuffle=False)\n",
        "test_loader = DataLoader(testset, batch_size=256, shuffle=False)\n",
        "\n",
        "model = VGG16BinaryClassification()\n",
        "loss_fn = nn.CrossEntropyLoss()\n",
        "\n",
        "device = torch.device(\"cuda\" if torch.cuda.is_available() else \"cpu\")\n",
        "print(device)\n",
        "training_loss, validation_loss, model = train(model, loss_fn, train_loader, val_loader,\n",
        "                                              lr_adjuster=adjust_lr, return_model=True, device=device, epochs=30)\n",
        "\n",
        "plt.title('Training performance')\n",
        "plt.plot(training_loss, label='training loss')\n",
        "plt.plot(validation_loss, label='validation loss')\n",
        "plt.legend()\n",
        "plt.show()"
      ]
    },
    {
      "cell_type": "code",
      "execution_count": 26,
      "metadata": {
        "colab": {
          "base_uri": "https://localhost:8080/"
        },
        "id": "HnNds1GEJ1z0",
        "outputId": "5ef9e1c0-2c41-4586-aca3-b20aaf7e8c4c"
      },
      "outputs": [
        {
          "name": "stdout",
          "output_type": "stream",
          "text": [
            "Training report\n"
          ]
        },
        {
          "name": "stderr",
          "output_type": "stream",
          "text": [
            "100%|██████████| 4/4 [00:00<00:00,  8.41it/s]\n"
          ]
        },
        {
          "name": "stdout",
          "output_type": "stream",
          "text": [
            "              precision    recall  f1-score   support\n",
            "\n",
            "           0      0.711     0.980     0.824       699\n",
            "           1      0.611     0.073     0.131       301\n",
            "\n",
            "    accuracy                          0.707      1000\n",
            "   macro avg      0.661     0.527     0.477      1000\n",
            "weighted avg      0.681     0.707     0.615      1000\n",
            "\n",
            "Validation report\n"
          ]
        },
        {
          "name": "stderr",
          "output_type": "stream",
          "text": [
            "100%|██████████| 1/1 [00:00<00:00,  8.80it/s]\n"
          ]
        },
        {
          "name": "stdout",
          "output_type": "stream",
          "text": [
            "              precision    recall  f1-score   support\n",
            "\n",
            "           0      0.725     0.971     0.830       174\n",
            "           1      0.286     0.030     0.055        66\n",
            "\n",
            "    accuracy                          0.713       240\n",
            "   macro avg      0.506     0.501     0.443       240\n",
            "weighted avg      0.604     0.713     0.617       240\n",
            "\n",
            "Test report\n"
          ]
        },
        {
          "name": "stderr",
          "output_type": "stream",
          "text": [
            "100%|██████████| 2/2 [00:00<00:00, 13.54it/s]"
          ]
        },
        {
          "name": "stdout",
          "output_type": "stream",
          "text": [
            "              precision    recall  f1-score   support\n",
            "\n",
            "           0      0.714     0.972     0.823       213\n",
            "           1      0.400     0.046     0.082        87\n",
            "\n",
            "    accuracy                          0.703       300\n",
            "   macro avg      0.557     0.509     0.453       300\n",
            "weighted avg      0.623     0.703     0.608       300\n",
            "\n"
          ]
        },
        {
          "name": "stderr",
          "output_type": "stream",
          "text": [
            "\n"
          ]
        }
      ],
      "source": [
        "print(\"Training report\")\n",
        "training_report = evaluate(trainset, model, device=device, batch_size=256)\n",
        "print(\"Validation report\")\n",
        "validation_report = evaluate(devset, model, device=device, batch_size=256)\n",
        "print(\"Test report\")\n",
        "test_report = evaluate(testset, model, device=device, batch_size=256)"
      ]
    },
    {
      "cell_type": "code",
      "execution_count": 27,
      "metadata": {
        "colab": {
          "base_uri": "https://localhost:8080/",
          "height": 334
        },
        "id": "Kf8pDhq4TD4s",
        "outputId": "3b6ad459-25d3-483c-a47d-8a001081a93a"
      },
      "outputs": [
        {
          "name": "stderr",
          "output_type": "stream",
          "text": [
            "/usr/local/lib/python3.10/dist-packages/ipykernel/ipkernel.py:283: DeprecationWarning: `should_run_async` will not call `transform_cell` automatically in the future. Please pass the result to `transformed_cell` argument and any exception that happen during thetransform in `preprocessing_exc_tuple` in IPython 7.17 and above.\n",
            "  and should_run_async(code)\n"
          ]
        },
        {
          "data": {
            "image/png": "[encoded data removed]",
            "text/plain": [
              "<Figure size 3000x3000 with 5 Axes>"
            ]
          },
          "metadata": {},
          "output_type": "display_data"
        }
      ],
      "source": [
        "idx_to_labels = {0: \"Normal Acrosome\", 1: \"Abnormal Acrosome\"}\n",
        "N=5\n",
        "random_indices = np.random.randint(0, len(testset)-1, N)\n",
        "random_samples = [testset[i] for i in random_indices]\n",
        "\n",
        "fig, axs = plt.subplots(ncols=5, nrows=1, figsize=(30,30))\n",
        "\n",
        "for i in range(N):\n",
        "    sample = random_samples[i]\n",
        "    image, label = sample\n",
        "    # label = int(label\n",
        "    category = idx_to_labels[label.item()]\n",
        "\n",
        "    input_image = image.unsqueeze(0).to(device)\n",
        "    model_output = model(input_image)\n",
        "    prediction = torch.argmax(torch.softmax(model_output, -1)).item()\n",
        "    predicted_category = idx_to_labels[prediction]\n",
        "\n",
        "    axs[i].imshow(image.type(torch.int32).permute(1, 2, 0))\n",
        "    axs[i].set(xticks=[], yticks=[], xticklabels=[], yticklabels=[])\n",
        "    axs[i].set_title(f'Predicted:{predicted_category} | Actual:{category}')\n",
        "plt.show()"
      ]
    },
    {
      "cell_type": "code",
      "execution_count": 28,
      "metadata": {
        "id": "9RDFcKXuVzxr"
      },
      "outputs": [],
      "source": [
        "# saving the model\n",
        "PATH = '/content/drive/MyDrive/AI Projects/Meta-learning vision project/Models/VGG16/model.pt'\n",
        "torch.save(model, PATH)"
      ]
    },
    {
      "cell_type": "code",
      "execution_count": 29,
      "metadata": {
        "colab": {
          "base_uri": "https://localhost:8080/"
        },
        "id": "RSgFjzizWTuW",
        "outputId": "38c85039-3f68-490a-d04d-edc02a7a54a2"
      },
      "outputs": [
        {
          "data": {
            "text/plain": [
              "VGG16BinaryClassification(\n",
              "  (model): VGG(\n",
              "    (features): Sequential(\n",
              "      (0): Conv2d(3, 64, kernel_size=(3, 3), stride=(1, 1), padding=(1, 1))\n",
              "      (1): ReLU(inplace=True)\n",
              "      (2): Conv2d(64, 64, kernel_size=(3, 3), stride=(1, 1), padding=(1, 1))\n",
              "      (3): ReLU(inplace=True)\n",
              "      (4): MaxPool2d(kernel_size=2, stride=2, padding=0, dilation=1, ceil_mode=False)\n",
              "      (5): Conv2d(64, 128, kernel_size=(3, 3), stride=(1, 1), padding=(1, 1))\n",
              "      (6): ReLU(inplace=True)\n",
              "      (7): Conv2d(128, 128, kernel_size=(3, 3), stride=(1, 1), padding=(1, 1))\n",
              "      (8): ReLU(inplace=True)\n",
              "      (9): MaxPool2d(kernel_size=2, stride=2, padding=0, dilation=1, ceil_mode=False)\n",
              "      (10): Conv2d(128, 256, kernel_size=(3, 3), stride=(1, 1), padding=(1, 1))\n",
              "      (11): ReLU(inplace=True)\n",
              "      (12): Conv2d(256, 256, kernel_size=(3, 3), stride=(1, 1), padding=(1, 1))\n",
              "      (13): ReLU(inplace=True)\n",
              "      (14): Conv2d(256, 256, kernel_size=(3, 3), stride=(1, 1), padding=(1, 1))\n",
              "      (15): ReLU(inplace=True)\n",
              "      (16): MaxPool2d(kernel_size=2, stride=2, padding=0, dilation=1, ceil_mode=False)\n",
              "      (17): Conv2d(256, 512, kernel_size=(3, 3), stride=(1, 1), padding=(1, 1))\n",
              "      (18): ReLU(inplace=True)\n",
              "      (19): Conv2d(512, 512, kernel_size=(3, 3), stride=(1, 1), padding=(1, 1))\n",
              "      (20): ReLU(inplace=True)\n",
              "      (21): Conv2d(512, 512, kernel_size=(3, 3), stride=(1, 1), padding=(1, 1))\n",
              "      (22): ReLU(inplace=True)\n",
              "      (23): MaxPool2d(kernel_size=2, stride=2, padding=0, dilation=1, ceil_mode=False)\n",
              "      (24): Conv2d(512, 512, kernel_size=(3, 3), stride=(1, 1), padding=(1, 1))\n",
              "      (25): ReLU(inplace=True)\n",
              "      (26): Conv2d(512, 512, kernel_size=(3, 3), stride=(1, 1), padding=(1, 1))\n",
              "      (27): ReLU(inplace=True)\n",
              "      (28): Conv2d(512, 512, kernel_size=(3, 3), stride=(1, 1), padding=(1, 1))\n",
              "      (29): ReLU(inplace=True)\n",
              "      (30): MaxPool2d(kernel_size=2, stride=2, padding=0, dilation=1, ceil_mode=False)\n",
              "    )\n",
              "    (avgpool): AdaptiveAvgPool2d(output_size=(7, 7))\n",
              "    (classifier): Sequential(\n",
              "      (0): Linear(in_features=25088, out_features=4096, bias=True)\n",
              "      (1): ReLU(inplace=True)\n",
              "      (2): Dropout(p=0.5, inplace=False)\n",
              "      (3): Linear(in_features=4096, out_features=4096, bias=True)\n",
              "      (4): ReLU(inplace=True)\n",
              "      (5): Dropout(p=0.5, inplace=False)\n",
              "      (6): Linear(in_features=4096, out_features=2, bias=True)\n",
              "    )\n",
              "  )\n",
              ")"
            ]
          },
          "execution_count": 29,
          "metadata": {},
          "output_type": "execute_result"
        }
      ],
      "source": [
        "# load model\n",
        "PATH = '/content/drive/MyDrive/AI Projects/Meta-learning vision project/Models/VGG16/model.pt'\n",
        "model = torch.load(PATH)\n",
        "model.eval()"
      ]
    },
    {
      "cell_type": "markdown",
      "metadata": {
        "id": "jvrTCtN1ux_p"
      },
      "source": [
        "# **MAML on Head Target**"
      ]
    },
    {
      "cell_type": "code",
      "execution_count": 57,
      "metadata": {
        "colab": {
          "base_uri": "https://localhost:8080/",
          "height": 419
        },
        "id": "-yPpa4SdbMrw",
        "outputId": "1fd940a4-6bf5-4d14-ac69-7ca9c7732d6b"
      },
      "outputs": [
        {
          "name": "stdout",
          "output_type": "stream",
          "text": [
            "x_train.shape:  (1000, 64, 64)\n",
            "x_dev.shape:  (240, 64, 64)\n",
            "x_test.shape:  (300, 64, 64)\n",
            "y_acrosome_train.shape:  (1000,)\n",
            "----------------------------------------\n",
            "each image size:  torch.Size([3, 64, 64])\n",
            "each label size:  torch.Size([])\n"
          ]
        },
        {
          "data": {
            "image/png": "[encoded data removed]",
            "text/plain": [
              "<Figure size 2000x2000 with 5 Axes>"
            ]
          },
          "metadata": {},
          "output_type": "display_data"
        }
      ],
      "source": [
        "trainset, devset, testset = constructDataset(data_shape=64, target_type='head')\n",
        "print('--'*20 + '\\n' + 'each image size: ', trainset.imgs[0].shape)\n",
        "print('each label size: ', trainset.img_labels[0].shape)\n",
        "\n",
        "idx_to_labels = {0: \"Normal Head\", 1: \"Abnormal Head\"}\n",
        "show(trainset, labels=idx_to_labels)"
      ]
    },
    {
      "cell_type": "code",
      "execution_count": 43,
      "metadata": {
        "id": "x9GR2PzpV2N2"
      },
      "outputs": [],
      "source": [
        "class NShotTaskSampler(Sampler):\n",
        "    def __init__(self,\n",
        "                 dataset: torch.utils.data.Dataset,\n",
        "                 episodes_per_epoch: int = None,\n",
        "                 n: int = None,\n",
        "                 k: int = None,\n",
        "                 q: int = None,\n",
        "                 num_tasks: int = 1):\n",
        "\n",
        "        \"\"\"PyTorch Sampler subclass that generates batches of n-shot, k-way,\n",
        "        q-query tasks.\n",
        "\n",
        "        Each n-shot task contains a \"support set\" of `k` sets of `n` samples and\n",
        "        a \"query set\" of `k` sets of `q` samples. The support set and the query set\n",
        "        are all grouped into one Tensor such that the first n * k samples are from\n",
        "        the support set while the remaining q * k samples are from the query set.\n",
        "\n",
        "        The support and query sets are sampled such that they are disjoint\n",
        "        i.e. do not contain overlapping samples.\n",
        "\n",
        "        # Arguments\n",
        "            dataset: Instance of torch.utils.data.Dataset from which to draw samples\n",
        "            episodes_per_epoch: Arbitrary number of batches of n-shot tasks to\n",
        "                                generate in one epoch\n",
        "            n_shot: int. Number of samples for each class in the n-shot\n",
        "                            classification tasks.\n",
        "            k_way: int. Number of classes in the n-shot classification tasks.\n",
        "            q_queries: int. Number query samples for each class in the n-shot\n",
        "                            classification tasks.\n",
        "            num_tasks: Number of n-shot tasks to group into a single batch\n",
        "        \"\"\"\n",
        "        super(NShotTaskSampler, self).__init__(dataset)\n",
        "        self.episodes_per_epoch = episodes_per_epoch\n",
        "        self.dataset = dataset\n",
        "        if num_tasks < 1:\n",
        "            raise ValueError('num_tasks must be > 1.')\n",
        "\n",
        "        self.num_tasks = num_tasks\n",
        "        # TODO: Raise errors if initialise badly\n",
        "        self.k = k\n",
        "        self.n = n\n",
        "        self.q = q\n",
        "\n",
        "    def __len__(self):\n",
        "        return self.episodes_per_epoch\n",
        "\n",
        "    def __iter__(self):\n",
        "        for _ in range(self.episodes_per_epoch):\n",
        "            batch = []\n",
        "\n",
        "            for task in range(self.num_tasks):\n",
        "                # Get random classes\n",
        "\n",
        "                episode_classes = np.unique(self.dataset.img_labels, return_counts=False)\n",
        "\n",
        "                for k in episode_classes:\n",
        "                    support_ids = np.random.choice(np.where(self.dataset.img_labels == k)[0], size=self.n)\n",
        "                    # print(support_ids)\n",
        "\n",
        "                    for x in support_ids:\n",
        "                        batch.append(x)\n",
        "\n",
        "                for k in episode_classes:\n",
        "                    query=np.setdiff1d(np.where(self.dataset.img_labels == k)[0], support_ids)\n",
        "                    query = query[np.random.choice(query.shape[0], self.q, replace=False)]\n",
        "\n",
        "                    for x in query:\n",
        "                        batch.append(x)\n",
        "\n",
        "            yield np.stack(batch)"
      ]
    },
    {
      "cell_type": "code",
      "execution_count": 44,
      "metadata": {
        "id": "xUiPPZlW4Vhp"
      },
      "outputs": [],
      "source": [
        "class VGG16BinaryClassification(nn.Module):\n",
        "    def __init__(self):\n",
        "        super().__init__()\n",
        "\n",
        "        self.model = torchvision.models.vgg16(pretrained=True)\n",
        "        self.model.classifier[6] = nn.Linear(4096, 2)\n",
        "\n",
        "        # unfreeze = ['classifier']\n",
        "        # for layer_name, layer in self.model.named_parameters():\n",
        "        #     for name in unfreeze:\n",
        "        #         if name in layer_name:\n",
        "        #             layer.requires_grad = True\n",
        "        #             break\n",
        "        #         else:\n",
        "        #             layer.requires_grad = False\n",
        "\n",
        "    def forward(self, x):\n",
        "        return self.model(x)\n",
        "\n",
        "\n",
        "class VGG19BinaryClassification(nn.Module):\n",
        "    def __init__(self):\n",
        "        super().__init__()\n",
        "\n",
        "        self.model = torchvision.models.vgg19(pretrained=True)\n",
        "        self.model.classifier[6] = nn.Linear(4096, 2)\n",
        "\n",
        "        # unfreeze = ['classifier']\n",
        "        # for layer_name, layer in self.model.named_parameters():\n",
        "        #     for name in unfreeze:\n",
        "        #         if name in layer_name:\n",
        "        #             layer.requires_grad = True\n",
        "        #             break\n",
        "        #         else:\n",
        "        #             layer.requires_grad = False\n",
        "\n",
        "    def forward(self, x):\n",
        "        return self.model(x)\n",
        "\n",
        "class VGG11BinaryClassification(nn.Module):\n",
        "    def __init__(self):\n",
        "        super().__init__()\n",
        "\n",
        "        self.model = torchvision.models.vgg11(pretrained=True)\n",
        "        self.model.classifier[6] = nn.Linear(4096, 2)\n",
        "\n",
        "        # unfreeze = ['classifier']\n",
        "        # for layer_name, layer in self.model.named_parameters():\n",
        "        #     for name in unfreeze:\n",
        "        #         if name in layer_name:\n",
        "        #             layer.requires_grad = True\n",
        "        #             break\n",
        "        #         else:\n",
        "        #             layer.requires_grad = False\n",
        "\n",
        "    def forward(self, x):\n",
        "        return self.model(x)"
      ]
    },
    {
      "cell_type": "code",
      "execution_count": 46,
      "metadata": {
        "id": "DWcrpO5y6vP-"
      },
      "outputs": [],
      "source": [
        "class ConvNetBinaryClassification(nn.Module):\n",
        "    def __init__(self):\n",
        "        super().__init__()\n",
        "\n",
        "        self.model = torchvision.models.convnext_tiny(pretrained=True)\n",
        "        self.model.classifier[-1] = nn.Linear(768, 2)\n",
        "\n",
        "        # unfreeze = ['classifier']\n",
        "        # for layer_name, layer in self.model.named_parameters():\n",
        "        #     for name in unfreeze:\n",
        "        #         if name in layer_name:\n",
        "        #             layer.requires_grad = True\n",
        "        #             break\n",
        "        #         else:\n",
        "        #             layer.requires_grad = False\n",
        "\n",
        "    def forward(self, x):\n",
        "        return self.model(x)"
      ]
    },
    {
      "cell_type": "code",
      "execution_count": 47,
      "metadata": {
        "colab": {
          "base_uri": "https://localhost:8080/"
        },
        "id": "R6E4DtqWJJ3C",
        "outputId": "b136aef3-1b56-4a40-8a30-de1f7c675731"
      },
      "outputs": [
        {
          "data": {
            "text/plain": [
              "CNN4(\n",
              "  (features): CNN4Backbone(\n",
              "    (0): ConvBlock(\n",
              "      (max_pool): MaxPool2d(kernel_size=(2, 2), stride=(2, 2), padding=0, dilation=1, ceil_mode=False)\n",
              "      (normalize): BatchNorm2d(128, eps=1e-05, momentum=0.1, affine=True, track_running_stats=True)\n",
              "      (relu): ReLU()\n",
              "      (conv): Conv2d(3, 128, kernel_size=(3, 3), stride=(1, 1), padding=(1, 1))\n",
              "    )\n",
              "    (1): ConvBlock(\n",
              "      (max_pool): MaxPool2d(kernel_size=(2, 2), stride=(2, 2), padding=0, dilation=1, ceil_mode=False)\n",
              "      (normalize): BatchNorm2d(128, eps=1e-05, momentum=0.1, affine=True, track_running_stats=True)\n",
              "      (relu): ReLU()\n",
              "      (conv): Conv2d(128, 128, kernel_size=(3, 3), stride=(1, 1), padding=(1, 1))\n",
              "    )\n",
              "    (2): ConvBlock(\n",
              "      (max_pool): MaxPool2d(kernel_size=(2, 2), stride=(2, 2), padding=0, dilation=1, ceil_mode=False)\n",
              "      (normalize): BatchNorm2d(128, eps=1e-05, momentum=0.1, affine=True, track_running_stats=True)\n",
              "      (relu): ReLU()\n",
              "      (conv): Conv2d(128, 128, kernel_size=(3, 3), stride=(1, 1), padding=(1, 1))\n",
              "    )\n",
              "    (3): ConvBlock(\n",
              "      (max_pool): MaxPool2d(kernel_size=(2, 2), stride=(2, 2), padding=0, dilation=1, ceil_mode=False)\n",
              "      (normalize): BatchNorm2d(128, eps=1e-05, momentum=0.1, affine=True, track_running_stats=True)\n",
              "      (relu): ReLU()\n",
              "      (conv): Conv2d(128, 128, kernel_size=(3, 3), stride=(1, 1), padding=(1, 1))\n",
              "    )\n",
              "  )\n",
              "  (classifier): Linear(in_features=2048, out_features=2, bias=True)\n",
              ")"
            ]
          },
          "execution_count": 47,
          "metadata": {},
          "output_type": "execute_result"
        }
      ],
      "source": [
        "model = l2l.vision.models.CNN4(output_size=2, hidden_size=128, channels=3, embedding_size=2048)\n",
        "model"
      ]
    },
    {
      "cell_type": "code",
      "execution_count": 48,
      "metadata": {
        "id": "HVmhAa2QFvUN"
      },
      "outputs": [],
      "source": [
        "from torch.nn.modules.conv import Conv2d\n",
        "conv1 = Conv2d(3, 128, kernel_size=(3,3), stride=(1,1), padding=(0,0))\n",
        "\n",
        "# conv1(x_test_tensor).shape"
      ]
    },
    {
      "cell_type": "code",
      "execution_count": 49,
      "metadata": {
        "id": "yIP0GnvKimPe"
      },
      "outputs": [],
      "source": [
        "class CNN4PLUS(nn.Module):\n",
        "    def __init__(self):\n",
        "        super().__init__()\n",
        "        self.conv1 = nn.Conv2d(1, 128, kernel_size=(3,3), stride=1, padding=1)\n",
        "        self.act1 = nn.ReLU()\n",
        "        # self.drop1 = nn.Dropout(0.3)\n",
        "\n",
        "        self.conv2 = nn.Conv2d(128, 128, kernel_size=(3,3), stride=1, padding=1)\n",
        "        self.act2 = nn.ReLU()\n",
        "        self.conv3 = nn.Conv2d(128, 128, kernel_size=(3,3), stride=1, padding=1)\n",
        "        self.act3 = nn.ReLU()\n",
        "        self.pool1 = nn.MaxPool2d(kernel_size=(2, 2))\n",
        "        self.bn1 = nn.BatchNorm2d(128)\n",
        "\n",
        "        self.conv4 = nn.Conv2d(128, 128, kernel_size=(3,3), stride=1, padding=1)\n",
        "        self.act4 = nn.ReLU()\n",
        "        self.conv5 = nn.Conv2d(128, 128, kernel_size=(3,3), stride=1, padding=1)\n",
        "        self.act5 = nn.ReLU()\n",
        "        self.pool2 = nn.MaxPool2d(kernel_size=(2, 2))\n",
        "        self.bn2 = nn.BatchNorm2d(128)\n",
        "\n",
        "        self.conv6 = nn.Conv2d(128, 128, kernel_size=(3,3), stride=1, padding=1)\n",
        "        self.act6 = nn.ReLU()\n",
        "        self.conv7 = nn.Conv2d(128, 128, kernel_size=(3,3), stride=1, padding=1)\n",
        "        self.act7 = nn.ReLU()\n",
        "        self.pool3 = nn.MaxPool2d(kernel_size=(2, 2))\n",
        "        self.bn3 = nn.BatchNorm2d(128)\n",
        "\n",
        "\n",
        "        self.flat = nn.Flatten()\n",
        "\n",
        "        self.fc3 = nn.Linear(32768, 256) # 131072 6272\n",
        "        self.actf = nn.ReLU()\n",
        "        # self.drop3 = nn.Dropout(0.5)\n",
        "\n",
        "        #self.fc4 = nn.Linear(256, 64)\n",
        "\n",
        "        self.fc5 = nn.Linear(256, 2)\n",
        "        self.actf2 = nn.Sigmoid()\n",
        "\n",
        "    def forward(self, x):\n",
        "        # input 1x128x128, output 32x32x32\n",
        "        x = self.act1(self.conv1(x))\n",
        "        # x = self.drop1(x)\n",
        "        # x = self.pool(x)\n",
        "        # input 32x32x32, output 32x32x32\n",
        "        x = self.act2(self.conv2(x))\n",
        "        # input 32x32x32, output 32x16x16\n",
        "        # x = self.pool(x)\n",
        "\n",
        "        x = self.act3(self.conv3(x))\n",
        "        x = self.pool1(x)\n",
        "        x = self.bn1(x)\n",
        "        x = self.act4(self.conv4(x))\n",
        "        x = self.act5(self.conv5(x))\n",
        "        # x = self.pool2(x)\n",
        "        x = self.bn2(x)\n",
        "        x = self.act6(self.conv6(x))\n",
        "        x = self.act7(self.conv7(x))\n",
        "        # x = self.pool3(x)\n",
        "        x = self.bn3(x)\n",
        "        # input 32x32x32, output 32x16x16\n",
        "        #x = self.pool3(x)\n",
        "        # input 32x16x16, output 8192\n",
        "        x = self.flat(x)\n",
        "        # input 8192, output 512\n",
        "        x = self.actf(self.fc3(x))\n",
        "        # x = self.drop3(x)\n",
        "        # input 512, output 10\n",
        "        #x = self.fc4(x)\n",
        "\n",
        "        x = self.fc5(x)\n",
        "        # x = self.act5(x)\n",
        "        return x"
      ]
    },
    {
      "cell_type": "markdown",
      "metadata": {
        "id": "y2XytWC6BjL1"
      },
      "source": [
        "**On MHSMA dataset**"
      ]
    },
    {
      "cell_type": "code",
      "execution_count": 51,
      "metadata": {
        "colab": {
          "base_uri": "https://localhost:8080/"
        },
        "id": "q1p_LgSIuxM1",
        "outputId": "95199b33-dd50-4b17-bb99-b1b2df49c292"
      },
      "outputs": [
        {
          "name": "stdout",
          "output_type": "stream",
          "text": [
            "\n",
            "\n",
            "Iteration 4\n",
            "Meta Train Error 0.7484264582395553\n",
            "Meta Train Accuracy 0.48750001192092896\n",
            "Meta Valid Error 0.7130543291568756\n",
            "Meta Valid Accuracy 0.5475000143051147\n",
            "\n",
            "\n",
            "Iteration 9\n",
            "Meta Train Error 0.7192516893148422\n",
            "Meta Train Accuracy 0.5350000128149986\n",
            "Meta Valid Error 0.6932045966386795\n",
            "Meta Valid Accuracy 0.5500000074505806\n",
            "\n",
            "\n",
            "Iteration 14\n",
            "Meta Train Error 0.677611181139946\n",
            "Meta Train Accuracy 0.5750000163912773\n",
            "Meta Valid Error 0.7141617506742477\n",
            "Meta Valid Accuracy 0.560000017285347\n",
            "\n",
            "\n",
            "Iteration 19\n",
            "Meta Train Error 0.6353259742259979\n",
            "Meta Train Accuracy 0.6650000080466271\n",
            "Meta Valid Error 0.6778860479593277\n",
            "Meta Valid Accuracy 0.5675000160932541\n",
            "\n",
            "\n",
            "Iteration 24\n",
            "Meta Train Error 0.6359257340431214\n",
            "Meta Train Accuracy 0.6375000104308128\n",
            "Meta Valid Error 0.6847298264503479\n",
            "Meta Valid Accuracy 0.5125000104308128\n",
            "\n",
            "\n",
            "Iteration 29\n",
            "Meta Train Error 0.6384360253810882\n",
            "Meta Train Accuracy 0.647500017285347\n",
            "Meta Valid Error 0.678635784983635\n",
            "Meta Valid Accuracy 0.5550000131130218\n",
            "\n",
            "\n",
            "Iteration 34\n",
            "Meta Train Error 0.5987637460231781\n",
            "Meta Train Accuracy 0.6850000113248825\n",
            "Meta Valid Error 0.6601837992668151\n",
            "Meta Valid Accuracy 0.6125000178813934\n",
            "\n",
            "\n",
            "Iteration 39\n",
            "Meta Train Error 0.5975820094347\n",
            "Meta Train Accuracy 0.7000000044703484\n",
            "Meta Valid Error 0.6770782858133316\n",
            "Meta Valid Accuracy 0.6125000134110451\n",
            "\n",
            "\n",
            "Iteration 44\n",
            "Meta Train Error 0.6038133010268212\n",
            "Meta Train Accuracy 0.7000000089406967\n",
            "Meta Valid Error 0.6545667588710785\n",
            "Meta Valid Accuracy 0.6200000151991845\n",
            "\n",
            "\n",
            "Iteration 49\n",
            "Meta Train Error 0.5892173111438751\n",
            "Meta Train Accuracy 0.7125000119209289\n",
            "Meta Valid Error 0.6472500830888748\n",
            "Meta Valid Accuracy 0.6075000181794167\n",
            "\n",
            "\n",
            "Iteration 54\n",
            "Meta Train Error 0.5484549254179001\n",
            "Meta Train Accuracy 0.7425000101327897\n",
            "Meta Valid Error 0.6445185601711273\n",
            "Meta Valid Accuracy 0.6350000157952309\n",
            "\n",
            "\n",
            "Iteration 59\n",
            "Meta Train Error 0.5926497250795364\n",
            "Meta Train Accuracy 0.6900000169873237\n",
            "Meta Valid Error 0.6432604148983956\n",
            "Meta Valid Accuracy 0.6550000131130218\n",
            "\n",
            "\n",
            "Iteration 64\n",
            "Meta Train Error 0.5715267404913902\n",
            "Meta Train Accuracy 0.7425000041723251\n",
            "Meta Valid Error 0.6426690846681595\n",
            "Meta Valid Accuracy 0.6400000169873238\n",
            "\n",
            "\n",
            "Iteration 69\n",
            "Meta Train Error 0.5350554823875427\n",
            "Meta Train Accuracy 0.7575000107288361\n",
            "Meta Valid Error 0.6665459394454956\n",
            "Meta Valid Accuracy 0.5975000217556954\n",
            "\n",
            "\n",
            "Iteration 74\n",
            "Meta Train Error 0.5585441946983337\n",
            "Meta Train Accuracy 0.7375000059604645\n",
            "Meta Valid Error 0.6483623892068863\n",
            "Meta Valid Accuracy 0.6000000149011612\n",
            "\n",
            "\n",
            "Iteration 79\n",
            "Meta Train Error 0.5336333602666855\n",
            "Meta Train Accuracy 0.747500017285347\n",
            "Meta Valid Error 0.6381066411733627\n",
            "Meta Valid Accuracy 0.6150000169873238\n",
            "\n",
            "\n",
            "Iteration 84\n",
            "Meta Train Error 0.5344695881009102\n",
            "Meta Train Accuracy 0.7625000089406967\n",
            "Meta Valid Error 0.6618920117616653\n",
            "Meta Valid Accuracy 0.6525000154972076\n",
            "\n",
            "\n",
            "Iteration 89\n",
            "Meta Train Error 0.5027209103107453\n",
            "Meta Train Accuracy 0.807500010728836\n",
            "Meta Valid Error 0.6533579349517822\n",
            "Meta Valid Accuracy 0.615000019967556\n",
            "\n",
            "\n",
            "Iteration 94\n",
            "Meta Train Error 0.5169603317975998\n",
            "Meta Train Accuracy 0.8075000047683716\n",
            "Meta Valid Error 0.6483900725841523\n",
            "Meta Valid Accuracy 0.6325000241398812\n",
            "\n",
            "\n",
            "Iteration 99\n",
            "Meta Train Error 0.5049338489770889\n",
            "Meta Train Accuracy 0.7775000095367431\n",
            "Meta Valid Error 0.6846697866916657\n",
            "Meta Valid Accuracy 0.5925000131130218\n",
            "Meta Test Error 0.6583167150616646\n",
            "Meta Test Accuracy 0.6450000137090683\n"
          ]
        }
      ],
      "source": [
        "MAML_path = \"/content/drive/MyDrive/AI Projects/Meta-learning vision project/MAML.pt\"\n",
        "# MAML_path = \"/content/drive/MyDrive/AI Projects/mhsma-dataset/MAML.pt\"\n",
        "\n",
        "def accuracy(predictions, targets):\n",
        "    predictions = predictions.argmax(dim=1).view(targets.shape)\n",
        "    return (predictions == targets).sum().float() / targets.size(0)\n",
        "\n",
        "def fast_adapt(batch, learner, loss, adaptation_steps, shots, ways, device):\n",
        "    data, labels = batch\n",
        "    data, labels = data.to(device), labels.to(device)\n",
        "\n",
        "    # Separate data into adaptation/evalutation sets\n",
        "    adaptation_indices = np.zeros(data.size(0), dtype=bool)\n",
        "    adaptation_indices[np.arange(shots*ways) * 2] = True\n",
        "    #print(adaptation_indices)\n",
        "    evaluation_indices = torch.from_numpy(~adaptation_indices)\n",
        "    adaptation_indices = torch.from_numpy(adaptation_indices)\n",
        "    adaptation_data, adaptation_labels = data[adaptation_indices], labels[adaptation_indices]\n",
        "    evaluation_data, evaluation_labels = data[evaluation_indices], labels[evaluation_indices]\n",
        "\n",
        "    # Adapt the model\n",
        "    for step in range(adaptation_steps):\n",
        "        adaptation_data = adaptation_data.to(torch.float)\n",
        "        train_error = loss(learner(adaptation_data), adaptation_labels)\n",
        "        learner.adapt(train_error)\n",
        "\n",
        "    # Evaluate the adapted model\n",
        "    predictions = learner(evaluation_data.to(torch.float))\n",
        "    valid_error = loss(predictions, evaluation_labels)\n",
        "    valid_accuracy = accuracy(predictions, evaluation_labels)\n",
        "    return valid_error, valid_accuracy\n",
        "\n",
        "\n",
        "def main(\n",
        "          ways=2,\n",
        "          shots=10,\n",
        "          meta_lr=0.0001,#0.003\n",
        "          fast_lr=0.003,#0.5\n",
        "          meta_batch_size=20,#32\n",
        "          adaptation_steps=1,\n",
        "          num_iterations=100,#60000\n",
        "          cuda=True,\n",
        "          seed=42, ):\n",
        "\n",
        "    random.seed(seed)\n",
        "    np.random.seed(seed)\n",
        "    torch.manual_seed(seed)\n",
        "    device = torch.device('cpu')\n",
        "\n",
        "    if cuda:\n",
        "        torch.cuda.manual_seed(seed)\n",
        "        device = torch.device('cuda')\n",
        "\n",
        "\n",
        "    epoch_len = meta_batch_size\n",
        "    train_taskloader = DataLoader(trainset,\n",
        "                                  batch_sampler=NShotTaskSampler(trainset, epoch_len, n=2*shots,\n",
        "                                                                  k=ways, q=0,\n",
        "                                                                  num_tasks=1),\n",
        "                                  num_workers=1\n",
        "    )\n",
        "    dev_taskloader = DataLoader(devset,\n",
        "                                batch_sampler=NShotTaskSampler(devset, epoch_len, n=0,\n",
        "                                                                k=ways, q=2*shots,\n",
        "                                                                num_tasks=1),\n",
        "                                num_workers=1\n",
        "    )\n",
        "    test_taskloader = DataLoader(testset,\n",
        "                                batch_sampler=NShotTaskSampler(testset, epoch_len, n=0,\n",
        "                                                                k=ways, q=2*shots,\n",
        "                                                                num_tasks=1),\n",
        "                                num_workers=1\n",
        "    )\n",
        "\n",
        "    # Create model\n",
        "    model = l2l.vision.models.CNN4(output_size=ways, hidden_size=128, channels=3, embedding_size=2048) #l2l.vision.models.OmniglotFC(128 * 128, ways)#CIFAR10Model()\n",
        "    # model = l2l.vision.models.WRN28(output_size=ways, hidden_size=128)\n",
        "    # model = CIFAR10Model()\n",
        "    # model = ConvNetBinaryClassification()\n",
        "    # model  = VGG16BinaryClassification()\n",
        "\n",
        "    model.to(device)\n",
        "    maml = l2l.algorithms.MAML(model, lr=fast_lr, first_order=False)\n",
        "    opt = optim.Adam(maml.parameters(), meta_lr)\n",
        "    loss = nn.CrossEntropyLoss(reduction='mean')\n",
        "\n",
        "    best_valid_loss = float('inf')\n",
        "    for iteration in range(num_iterations):\n",
        "        opt.zero_grad()\n",
        "        meta_train_error = 0.0\n",
        "        meta_train_accuracy = 0.0\n",
        "        meta_valid_error = 0.0\n",
        "        meta_valid_accuracy = 0.0\n",
        "        for train_batch, val_batch in zip(train_taskloader, dev_taskloader): # epoch_len     #range(meta_batch_size):\n",
        "            # Compute meta-training loss\n",
        "            learner = maml.clone()\n",
        "\n",
        "            evaluation_error, evaluation_accuracy = fast_adapt(train_batch,\n",
        "                                                                learner,\n",
        "                                                                loss,\n",
        "                                                                adaptation_steps,\n",
        "                                                                shots,\n",
        "                                                                ways,\n",
        "                                                                device)\n",
        "\n",
        "            evaluation_error.backward()\n",
        "            meta_train_error += evaluation_error.item()\n",
        "            meta_train_accuracy += evaluation_accuracy.item()\n",
        "\n",
        "            # Compute meta-validation loss\n",
        "            learner = maml.clone()\n",
        "\n",
        "            evaluation_error, evaluation_accuracy = fast_adapt(val_batch,\n",
        "                                                               learner,\n",
        "                                                               loss,\n",
        "                                                               adaptation_steps,\n",
        "                                                               shots,\n",
        "                                                               ways,\n",
        "                                                               device)\n",
        "            meta_valid_error += evaluation_error.item()\n",
        "            meta_valid_accuracy += evaluation_accuracy.item()\n",
        "\n",
        "            if meta_valid_error < best_valid_loss:\n",
        "              best_valid_loss = meta_valid_error\n",
        "              torch.save(learner, MAML_path)\n",
        "\n",
        "        # Print some metrics\n",
        "        if (iteration+1) % 5 == 0:\n",
        "          print('\\n')\n",
        "          print('Iteration', iteration)\n",
        "          print('Meta Train Error', meta_train_error / meta_batch_size)\n",
        "          print('Meta Train Accuracy', meta_train_accuracy / meta_batch_size)\n",
        "          print('Meta Valid Error', meta_valid_error / meta_batch_size)\n",
        "          print('Meta Valid Accuracy', meta_valid_accuracy / meta_batch_size)\n",
        "\n",
        "        # Average the accumulated gradients and optimize\n",
        "        for p in maml.parameters():\n",
        "            p.grad.data.mul_(1.0 / meta_batch_size)\n",
        "        opt.step()\n",
        "\n",
        "    meta_test_error = 0.0\n",
        "    meta_test_accuracy = 0.0\n",
        "    for test_batch in test_taskloader:\n",
        "        # Compute meta-testing loss\n",
        "        learner = maml.clone()\n",
        "\n",
        "        evaluation_error, evaluation_accuracy = fast_adapt(test_batch,\n",
        "                                                           learner,\n",
        "                                                           loss,\n",
        "                                                           adaptation_steps,\n",
        "                                                           shots,\n",
        "                                                           ways,\n",
        "                                                           device)\n",
        "        meta_test_error += evaluation_error.item()\n",
        "        meta_test_accuracy += evaluation_accuracy.item()\n",
        "    print('Meta Test Error', meta_test_error / meta_batch_size)\n",
        "    print('Meta Test Accuracy', meta_test_accuracy / meta_batch_size)\n",
        "\n",
        "\n",
        "if __name__ == '__main__':\n",
        "    main()"
      ]
    },
    {
      "cell_type": "code",
      "execution_count": 52,
      "metadata": {
        "colab": {
          "base_uri": "https://localhost:8080/"
        },
        "id": "Yv_e7vrgHWv9",
        "outputId": "7c0d7523-3bc5-4652-872b-6205c6f2d3b2"
      },
      "outputs": [
        {
          "data": {
            "text/plain": [
              "MAML(\n",
              "  (module): CNN4(\n",
              "    (features): CNN4Backbone(\n",
              "      (0): ConvBlock(\n",
              "        (max_pool): MaxPool2d(kernel_size=(2, 2), stride=(2, 2), padding=0, dilation=1, ceil_mode=False)\n",
              "        (normalize): BatchNorm2d(128, eps=1e-05, momentum=0.1, affine=True, track_running_stats=True)\n",
              "        (relu): ReLU()\n",
              "        (conv): Conv2d(3, 128, kernel_size=(3, 3), stride=(1, 1), padding=(1, 1))\n",
              "      )\n",
              "      (1): ConvBlock(\n",
              "        (max_pool): MaxPool2d(kernel_size=(2, 2), stride=(2, 2), padding=0, dilation=1, ceil_mode=False)\n",
              "        (normalize): BatchNorm2d(128, eps=1e-05, momentum=0.1, affine=True, track_running_stats=True)\n",
              "        (relu): ReLU()\n",
              "        (conv): Conv2d(128, 128, kernel_size=(3, 3), stride=(1, 1), padding=(1, 1))\n",
              "      )\n",
              "      (2): ConvBlock(\n",
              "        (max_pool): MaxPool2d(kernel_size=(2, 2), stride=(2, 2), padding=0, dilation=1, ceil_mode=False)\n",
              "        (normalize): BatchNorm2d(128, eps=1e-05, momentum=0.1, affine=True, track_running_stats=True)\n",
              "        (relu): ReLU()\n",
              "        (conv): Conv2d(128, 128, kernel_size=(3, 3), stride=(1, 1), padding=(1, 1))\n",
              "      )\n",
              "      (3): ConvBlock(\n",
              "        (max_pool): MaxPool2d(kernel_size=(2, 2), stride=(2, 2), padding=0, dilation=1, ceil_mode=False)\n",
              "        (normalize): BatchNorm2d(128, eps=1e-05, momentum=0.1, affine=True, track_running_stats=True)\n",
              "        (relu): ReLU()\n",
              "        (conv): Conv2d(128, 128, kernel_size=(3, 3), stride=(1, 1), padding=(1, 1))\n",
              "      )\n",
              "    )\n",
              "    (classifier): Linear(in_features=2048, out_features=2, bias=True)\n",
              "  )\n",
              ")"
            ]
          },
          "execution_count": 52,
          "metadata": {},
          "output_type": "execute_result"
        }
      ],
      "source": [
        "model = torch.load(MAML_path)\n",
        "model.eval()"
      ]
    },
    {
      "cell_type": "markdown",
      "metadata": {
        "id": "Qr65wVaF1V5m"
      },
      "source": [
        "**Result on trainset**"
      ]
    },
    {
      "cell_type": "code",
      "execution_count": 53,
      "metadata": {
        "colab": {
          "base_uri": "https://localhost:8080/"
        },
        "id": "oDbZAx8QIaNx",
        "outputId": "87117f1d-879b-4a20-d15d-c6623dd61bbf"
      },
      "outputs": [
        {
          "data": {
            "text/plain": [
              "(torch.Size([1000, 2]), tensor(0.7240, device='cuda:0'))"
            ]
          },
          "execution_count": 53,
          "metadata": {},
          "output_type": "execute_result"
        }
      ],
      "source": [
        "# print(testset.imgs.shape)\n",
        "train_pred = model(trainset.imgs.type(torch.cuda.FloatTensor))\n",
        "train_pred.shape, accuracy(train_pred, trainset.img_labels.to(torch.device('cuda')))"
      ]
    },
    {
      "cell_type": "markdown",
      "metadata": {
        "id": "xy2l1NgW1csI"
      },
      "source": [
        "**Result on devtset**"
      ]
    },
    {
      "cell_type": "code",
      "execution_count": 54,
      "metadata": {
        "colab": {
          "base_uri": "https://localhost:8080/"
        },
        "id": "WupPe-Wl1csJ",
        "outputId": "e6795789-902b-48b9-cb5e-707cc845414b"
      },
      "outputs": [
        {
          "data": {
            "text/plain": [
              "(torch.Size([240, 2]), tensor(0.6208, device='cuda:0'))"
            ]
          },
          "execution_count": 54,
          "metadata": {},
          "output_type": "execute_result"
        }
      ],
      "source": [
        "# print(testset.imgs.shape)\n",
        "dev_pred = model(devset.imgs.type(torch.cuda.FloatTensor))\n",
        "dev_pred.shape, accuracy(dev_pred, devset.img_labels.to(torch.device('cuda')))"
      ]
    },
    {
      "cell_type": "markdown",
      "metadata": {
        "id": "9I_njziX1eMr"
      },
      "source": [
        "**Result on testset**"
      ]
    },
    {
      "cell_type": "code",
      "execution_count": 55,
      "metadata": {
        "colab": {
          "base_uri": "https://localhost:8080/"
        },
        "id": "Yt4scwNH1eMs",
        "outputId": "f7fb0a28-b44f-4a54-89fc-b1d7ddb957d5"
      },
      "outputs": [
        {
          "data": {
            "text/plain": [
              "(torch.Size([300, 2]), tensor(0.6200, device='cuda:0'))"
            ]
          },
          "execution_count": 55,
          "metadata": {},
          "output_type": "execute_result"
        }
      ],
      "source": [
        "# print(testset.imgs.shape)\n",
        "test_pred = model(testset.imgs.type(torch.cuda.FloatTensor))\n",
        "test_pred.shape, accuracy(test_pred, testset.img_labels.to(torch.device('cuda')))"
      ]
    }
  ],
  "metadata": {
    "accelerator": "GPU",
    "colab": {
      "collapsed_sections": [
        "RwbwnPEABlqj",
        "nqEhjDPDF4xQ",
        "qUceOsjH_Sgx",
        "Q_nUtd1ekQez",
        "B1UB0Dw-2tZW"
      ],
      "provenance": []
    },
    "kernelspec": {
      "display_name": "Python 3",
      "name": "python3"
    },
    "language_info": {
      "name": "python"
    }
  },
  "nbformat": 4,
  "nbformat_minor": 0
}
