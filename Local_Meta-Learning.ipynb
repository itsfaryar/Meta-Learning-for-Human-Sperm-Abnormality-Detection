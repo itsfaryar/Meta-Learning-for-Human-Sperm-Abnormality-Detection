{
  "cells": [
    {
      "cell_type": "markdown",
      "metadata": {
        "id": "view-in-github",
        "colab_type": "text"
      },
      "source": [
        "<a href=\"https://colab.research.google.com/github/itsfaryar/Meta-Learning-for-Human-Sperm-Abnormality-Detection/blob/main/Local_Meta-Learning.ipynb\" target=\"_parent\"><img src=\"https://colab.research.google.com/assets/colab-badge.svg\" alt=\"Open In Colab\"/></a>"
      ]
    },
    {
      "cell_type": "markdown",
      "metadata": {
        "id": "RwbwnPEABlqj"
      },
      "source": [
        "# **Libraries & Constants**"
      ]
    },
    {
      "cell_type": "code",
      "source": [
        "#torch.cuda.empty_cache()"
      ],
      "metadata": {
        "id": "LmK2C-93fRap"
      },
      "execution_count": null,
      "outputs": []
    },
    {
      "cell_type": "code",
      "execution_count": null,
      "metadata": {
        "id": "M17F45lm21Qp"
      },
      "outputs": [],
      "source": [
        "# download qpth package and fix the bug in setup.py then install it\n",
        "# !wget https://github.com/amirezzati/Meta-Learning-for-Human-Sperm-Abnormality-Detection/raw/main/Requirements/qpth-0.0.15.tar.gz\n",
        "# !tar -xzvf qpth-0.0.15.tar.gz\n",
        "# !python qpth-0.0.15/setup.py install"
      ]
    },
    {
      "cell_type": "code",
      "execution_count": null,
      "metadata": {
        "id": "WlSYV0cPvL01"
      },
      "outputs": [],
      "source": [
        "# !pip install learn2learn"
      ]
    },
    {
      "cell_type": "code",
      "execution_count": null,
      "metadata": {
        "id": "sxtqenWVBXFa"
      },
      "outputs": [],
      "source": [
        "from tqdm import tqdm\n",
        "import random\n",
        "\n",
        "import learn2learn as l2l\n",
        "import torch\n",
        "import torchvision\n",
        "from torch import nn, optim\n",
        "from torch.optim import Optimizer, Adam\n",
        "from torch.utils.data import DataLoader, Dataset, Sampler\n",
        "from torch.utils.data import SubsetRandomSampler, ConcatDataset\n",
        "from torch.utils.data import random_split\n",
        "from torchvision.io import read_image\n",
        "from torchvision import transforms as t\n",
        "from torchvision.transforms import functional as F\n",
        "\n",
        "# cross-validaion and evaluation tools\n",
        "from sklearn.metrics import classification_report\n",
        "from sklearn import metrics\n",
        "\n",
        "import cv2\n",
        "import pandas as pd\n",
        "import tensorflow as tf\n",
        "import numpy as np\n",
        "import PIL\n",
        "from matplotlib import pyplot as plt\n",
        "import os\n",
        "from copy import deepcopy\n",
        "#from google.colab import drive\n",
        "\n",
        "from typing import Callable, Union\n",
        "from collections import OrderedDict\n",
        "\n",
        "from tqdm import trange\n",
        "import time"
      ]
    },
    {
      "cell_type": "code",
      "execution_count": null,
      "metadata": {
        "id": "8tZpefdcEdrp",
        "colab": {
          "base_uri": "https://localhost:8080/"
        },
        "outputId": "9e74c30c-2ca4-4abb-989e-cd08d5fe3d13"
      },
      "outputs": [
        {
          "output_type": "stream",
          "name": "stderr",
          "text": [
            "/usr/local/lib/python3.10/dist-packages/ipykernel/ipkernel.py:283: DeprecationWarning: `should_run_async` will not call `transform_cell` automatically in the future. Please pass the result to `transformed_cell` argument and any exception that happen during thetransform in `preprocessing_exc_tuple` in IPython 7.17 and above.\n",
            "  and should_run_async(code)\n",
            "/usr/local/lib/python3.10/dist-packages/pexpect/popen_spawn.py:60: DeprecationWarning: setDaemon() is deprecated, set the daemon attribute instead\n",
            "  self._read_thread.setDaemon(True)\n"
          ]
        },
        {
          "output_type": "stream",
          "name": "stdout",
          "text": [
            "Mounted at /content/drive\n"
          ]
        }
      ],
      "source": [
        "# drive.mount('/content/drive')\n",
        "# #data_path = \"/content/drive/MyDrive/AI Projects/Meta-learning vision project/mhsma-dataset sperm images/mhsma/\"\n",
        "# data_path = \"/content/drive/MyDrive/AI Projects/mhsma-dataset/mhsma/\"\n",
        "data_path = \"/home/mokaddar/Documents/notebook/mhsma-dataset/mhsma/\""
      ]
    },
    {
      "cell_type": "code",
      "source": [
        "path_vgg19_bn = \"/home/mokaddar/Documents/notebook/models/vgg19_bn-c79401a0.pth\"\n"
      ],
      "metadata": {
        "id": "fasHLLUHfBP6"
      },
      "execution_count": null,
      "outputs": []
    },
    {
      "cell_type": "markdown",
      "metadata": {
        "id": "nqEhjDPDF4xQ"
      },
      "source": [
        "# **Preprocessing**"
      ]
    },
    {
      "cell_type": "code",
      "execution_count": null,
      "metadata": {
        "id": "C9PW6zBt4g0M"
      },
      "outputs": [],
      "source": [
        "class DatasetPair(Dataset):\n",
        "  def __init__(self, x, y, transform=None, target_transform=None):\n",
        "    self.img_labels = y\n",
        "    self.imgs = x\n",
        "    self.transform = transform\n",
        "    self.target_transform = target_transform\n",
        "\n",
        "  def __len__(self):\n",
        "    return len(self.img_labels)\n",
        "\n",
        "  def __getitem__(self, idx):\n",
        "    image = self.imgs[idx]\n",
        "    label = self.img_labels[idx]\n",
        "    # if self.transform:\n",
        "    #     image = self.transform(image)\n",
        "    # if self.target_transform:\n",
        "    #     label = self.target_transform(label)\n",
        "    return image, label"
      ]
    },
    {
      "cell_type": "code",
      "execution_count": null,
      "metadata": {
        "id": "wq0o7-koF9MB"
      },
      "outputs": [],
      "source": [
        "# import dataset from path\n",
        "threeChannelImg = lambda x: np.stack((x, x, x), axis=0)\n",
        "\n",
        "def constructDataset(data_shape=64, target_type='head', channel_size=3,normalization=\"vgg\",  goal_size = 224):\n",
        "  # --------- Load datasets -----------\n",
        "  x_train = np.load(data_path + 'x_'+str(data_shape)+'_train.npy')\n",
        "  x_dev = np.load(data_path + 'x_'+str(data_shape)+'_valid.npy')\n",
        "  x_test = np.load(data_path + 'x_'+str(data_shape)+'_test.npy')\n",
        "\n",
        "  if target_type == 'acrosome':\n",
        "    y_train = np.load(data_path + 'y_acrosome_train.npy')\n",
        "    y_dev = np.load(data_path + 'y_acrosome_valid.npy')\n",
        "    y_test = np.load(data_path + 'y_acrosome_test.npy')\n",
        "\n",
        "  elif target_type == 'head':\n",
        "    y_train = np.load(data_path + 'y_head_train.npy')\n",
        "    y_dev = np.load(data_path + 'y_head_valid.npy')\n",
        "    y_test = np.load(data_path + 'y_head_test.npy')\n",
        "\n",
        "  elif target_type == 'tail':\n",
        "    y_train = np.load(data_path + 'y_tail_train.npy')\n",
        "    y_dev = np.load(data_path + 'y_tail_valid.npy')\n",
        "    y_test = np.load(data_path + 'y_tail_test.npy')\n",
        "\n",
        "  elif target_type == 'vacuole':\n",
        "    y_train = np.load(data_path + 'y_vacuole_train.npy')\n",
        "    y_dev = np.load(data_path + 'y_vacuole_valid.npy')\n",
        "    y_test = np.load(data_path + 'y_vacuole_test.npy')\n",
        "\n",
        "\n",
        "\n",
        "  # --------- Preprocess datasets -----------\n",
        "  if channel_size == 3:\n",
        "    x_train = np.array([threeChannelImg(sample) for sample in x_train], dtype=np.float32)\n",
        "    x_test = np.array([threeChannelImg(sample) for sample in x_test], dtype=np.float32)\n",
        "    x_dev = np.array([threeChannelImg(sample) for sample in x_dev], dtype=np.float32)\n",
        "\n",
        "  print('x_train.shape: ', x_train.shape)\n",
        "  print('x_dev.shape: ', x_dev.shape)\n",
        "  print('x_test.shape: ', x_test.shape)\n",
        "  print('y_acrosome_train.shape: ', y_train.shape) # y = 1 abnormal,  y = 0 normal\n",
        "  #normalize = torchvision.transforms.Normalize(mean=[0.485, 0.456, 0.406],\n",
        "  #                               std=[0.229, 0.224, 0.225])\n",
        "  # conver x and y to torch tensor\n",
        "  # x_train_tensor = normalize(torch.from_numpy(x_train))\n",
        "  # x_test_tensor = normalize(torch.from_numpy(x_test))\n",
        "  # x_dev_tensor = normalize(torch.from_numpy(x_dev))\n",
        "\n",
        "\n",
        "  vgg_preprocess = torchvision.transforms.Compose([\n",
        "    torchvision.transforms.Pad(((goal_size-data_shape)//2,(goal_size-data_shape)//2), fill=0, padding_mode='constant'),\n",
        "    torchvision.transforms.Lambda(lambda x: x.float()),\n",
        "    torchvision.transforms.Lambda(lambda x: x.div(255.0)),\n",
        "    torchvision.transforms.Normalize(mean=[0.485, 0.456, 0.406],\n",
        "                                 std=[0.229, 0.224, 0.225]),\n",
        "  ])\n",
        "\n",
        "\n",
        "  x_train_tensor = torch.from_numpy(x_train)\n",
        "  x_test_tensor = torch.from_numpy(x_test)\n",
        "  x_dev_tensor = torch.from_numpy(x_dev)\n",
        "\n",
        "  if normalization==\"vgg\":\n",
        "    x_train_tensor = vgg_preprocess(x_train_tensor)\n",
        "    x_test_tensor  = vgg_preprocess(x_test_tensor)\n",
        "    x_dev_tensor   = vgg_preprocess(x_dev_tensor)\n",
        "\n",
        "  y_train_tensor = torch.from_numpy(y_train)\n",
        "  y_test_tensor = torch.from_numpy(y_test)\n",
        "  y_dev_tensor = torch.from_numpy(y_dev)\n",
        "\n",
        "  # create Dataset class for each sets\n",
        "  trainset = DatasetPair(x_train_tensor, y_train_tensor)\n",
        "  devset = DatasetPair(x_dev_tensor, y_dev_tensor)\n",
        "  testset = DatasetPair(x_test_tensor, y_test_tensor)\n",
        "\n",
        "  return trainset, devset, testset\n",
        "\n",
        "def preprocessImages(img):\n",
        "  #brightness = -150\n",
        "  # Adjusts the contrast by scaling the pixel values by 2.3\n",
        "  #contrast = 2.9\n",
        "  #out=np.zeros(img.shape, img.dtype)\n",
        "\n",
        "  #out = cv2.addWeighted(img, contrast, np.zeros(img.shape, img.dtype), 0, brightness)\n",
        "  #out =  cv2.normalize(out,   np.zeros(img.shape, img.dtype), 0, 255, cv2.NORM_MINMAX)\n",
        "  #out = cv2.Canny(out, 55, 110)\n",
        "  #out = cv2.resize(out, (size, size))\n",
        "  return img"
      ]
    },
    {
      "cell_type": "code",
      "execution_count": null,
      "metadata": {
        "id": "mPdqGc_CI1Am",
        "colab": {
          "base_uri": "https://localhost:8080/"
        },
        "outputId": "b725f45c-dc6d-4a60-c270-daf50c4739f3"
      },
      "outputs": [
        {
          "output_type": "stream",
          "name": "stdout",
          "text": [
            "x_train.shape:  (1000, 3, 128, 128)\n",
            "x_dev.shape:  (240, 3, 128, 128)\n",
            "x_test.shape:  (300, 3, 128, 128)\n",
            "y_acrosome_train.shape:  (1000,)\n",
            "----------------------------------------\n",
            "each image size:  torch.Size([3, 224, 224])\n",
            "each label size:  torch.Size([])\n"
          ]
        }
      ],
      "source": [
        "trainset, devset, testset = constructDataset(data_shape=128, target_type='head')\n",
        "\n",
        "print('--'*20 + '\\n' + 'each image size: ', trainset[0][0].shape)\n",
        "print('each label size: ', trainset[0][1].shape)"
      ]
    },
    {
      "cell_type": "markdown",
      "metadata": {
        "id": "PmvNFGOdWwuR"
      },
      "source": [
        "Example"
      ]
    },
    {
      "cell_type": "code",
      "execution_count": null,
      "metadata": {
        "id": "tqVE53S0JVZd"
      },
      "outputs": [],
      "source": [
        "def show(dataset, N=5, labels=None, figsize=(20, 20)):\n",
        "    \"\"\" Shows random N samples from the dataset \"\"\"\n",
        "    idxs = np.random.randint(0, len(dataset)-1, N)\n",
        "\n",
        "    fig, axs = plt.subplots(ncols=len(idxs), squeeze=False, figsize=figsize)\n",
        "\n",
        "    for i, idx in enumerate(idxs):\n",
        "        sample = dataset[idx]\n",
        "        if isinstance(sample, tuple): # then it is in the form (x, y)\n",
        "          sample, label = sample\n",
        "\n",
        "          if isinstance(label, torch.Tensor):\n",
        "            label = int(label.item())\n",
        "          if labels:\n",
        "            label = labels[label]\n",
        "          axs[0, i].title.set_text(label)\n",
        "        # print(threeChannelImg(sample).shape)\n",
        "        axs[0, i].imshow(sample.type(torch.int16).permute(1, 2, 0))\n",
        "        axs[0, i].set(xticklabels = [], yticklabels = [], xticks = [], yticks = [])\n",
        "\n",
        "    plt.show()"
      ]
    },
    {
      "cell_type": "code",
      "execution_count": null,
      "metadata": {
        "id": "yhQGC714H_-q",
        "colab": {
          "base_uri": "https://localhost:8080/"
        },
        "outputId": "cce253c9-59f7-4d8e-b826-07f81d3013ed"
      },
      "outputs": [
        {
          "output_type": "stream",
          "name": "stderr",
          "text": [
            "WARNING:matplotlib.image:Clipping input data to the valid range for imshow with RGB data ([0..1] for floats or [0..255] for integers).\n",
            "WARNING:matplotlib.image:Clipping input data to the valid range for imshow with RGB data ([0..1] for floats or [0..255] for integers).\n",
            "WARNING:matplotlib.image:Clipping input data to the valid range for imshow with RGB data ([0..1] for floats or [0..255] for integers).\n",
            "WARNING:matplotlib.image:Clipping input data to the valid range for imshow with RGB data ([0..1] for floats or [0..255] for integers).\n",
            "WARNING:matplotlib.image:Clipping input data to the valid range for imshow with RGB data ([0..1] for floats or [0..255] for integers).\n"
          ]
        },
        {
          "output_type": "display_data",
          "data": {
            "text/plain": [
              "<Figure size 2000x2000 with 5 Axes>"
            ],
            "image/png": "[encoded data removed]"
          },
          "metadata": {}
        }
      ],
      "source": [
        "idx_to_labels = {0: \"Normal Acrosome\", 1: \"Abnormal Acrosome\"}\n",
        "show(trainset, labels=idx_to_labels)"
      ]
    },
    {
      "cell_type": "code",
      "execution_count": null,
      "metadata": {
        "id": "_0TDfwhbPKSJ",
        "colab": {
          "base_uri": "https://localhost:8080/"
        },
        "outputId": "82d31fc0-b60e-41bf-ee1b-d84f3872601c"
      },
      "outputs": [
        {
          "output_type": "display_data",
          "data": {
            "text/plain": [
              "<Figure size 640x480 with 1 Axes>"
            ],
            "image/png": "[encoded data removed]"
          },
          "metadata": {}
        }
      ],
      "source": [
        "image = trainset.imgs[1][0]\n",
        "plt.subplot(1, 2, 2)\n",
        "plt.title(\"Sample image\")\n",
        "plt.imshow(image)\n",
        "plt.show()"
      ]
    },
    {
      "cell_type": "markdown",
      "source": [
        "# **MAML Implementation**"
      ],
      "metadata": {
        "id": "alzSbC_kN5q_"
      }
    },
    {
      "cell_type": "code",
      "source": [
        "class NShotTaskSampler(Sampler):\n",
        "    def __init__(self,\n",
        "                 dataset: torch.utils.data.Dataset,\n",
        "                 episodes_per_epoch: int = None,\n",
        "                 n: int = None,\n",
        "                 k: int = None,\n",
        "                 q: int = None,\n",
        "                 num_tasks: int = 1):\n",
        "\n",
        "        \"\"\"PyTorch Sampler subclass that generates batches of n-shot, k-way,\n",
        "        q-query tasks.\n",
        "\n",
        "        Each n-shot task contains a \"support set\" of `k` sets of `n` samples and\n",
        "        a \"query set\" of `k` sets of `q` samples. The support set and the query set\n",
        "        are all grouped into one Tensor such that the first n * k samples are from\n",
        "        the support set while the remaining q * k samples are from the query set.\n",
        "\n",
        "        The support and query sets are sampled such that they are disjoint\n",
        "        i.e. do not contain overlapping samples.\n",
        "\n",
        "        # Arguments\n",
        "            dataset: Instance of torch.utils.data.Dataset from which to draw samples\n",
        "            episodes_per_epoch: Arbitrary number of batches of n-shot tasks to\n",
        "                                generate in one epoch\n",
        "            n_shot: int. Number of samples for each class in the n-shot\n",
        "                            classification tasks.\n",
        "            k_way: int. Number of classes in the n-shot classification tasks.\n",
        "            q_queries: int. Number query samples for each class in the n-shot\n",
        "                            classification tasks.\n",
        "            num_tasks: Number of n-shot tasks to group into a single batch\n",
        "        \"\"\"\n",
        "        super(NShotTaskSampler, self).__init__(dataset)\n",
        "        self.episodes_per_epoch = episodes_per_epoch\n",
        "        self.dataset = dataset\n",
        "        if num_tasks < 1:\n",
        "            raise ValueError('num_tasks must be > 1.')\n",
        "\n",
        "        self.num_tasks = num_tasks\n",
        "        # TODO: Raise errors if initialise badly\n",
        "        self.k = k\n",
        "        self.n = n\n",
        "        self.q = q\n",
        "\n",
        "    def __len__(self):\n",
        "        return self.episodes_per_epoch\n",
        "\n",
        "    def __iter__(self):\n",
        "        for _ in range(self.episodes_per_epoch):\n",
        "            batch = []\n",
        "\n",
        "            for task in range(self.num_tasks):\n",
        "                # Get random classes\n",
        "\n",
        "                episode_classes = np.unique(self.dataset.img_labels, return_counts=False)\n",
        "\n",
        "                for k in episode_classes:\n",
        "                    support_ids = np.random.choice(np.where(self.dataset.img_labels == k)[0], size=self.n)\n",
        "                    # print(support_ids)\n",
        "\n",
        "                    for x in support_ids:\n",
        "                        batch.append(x)\n",
        "\n",
        "                for k in episode_classes:\n",
        "                    query=np.setdiff1d(np.where(self.dataset.img_labels == k)[0], support_ids)\n",
        "                    query = query[np.random.choice(query.shape[0], self.q, replace=False)]\n",
        "\n",
        "                    for x in query:\n",
        "                        batch.append(x)\n",
        "\n",
        "            yield np.stack(batch)"
      ],
      "metadata": {
        "id": "SIMVQYHhOKiu"
      },
      "execution_count": null,
      "outputs": []
    },
    {
      "cell_type": "code",
      "source": [
        "def accuracy(predictions, targets):\n",
        "    predictions = predictions.argmax(dim=1).view(targets.shape)\n",
        "    return (predictions == targets).sum().float() / targets.size(0)\n",
        "\n",
        "def fast_adapt(batch, learner, loss, adaptation_steps, shots, ways, device):\n",
        "    data, labels = batch\n",
        "    data, labels = data.to(device), labels.to(device)\n",
        "\n",
        "    # Separate data into adaptation/evalutation sets\n",
        "    adaptation_indices = np.zeros(data.size(0), dtype=bool)\n",
        "    adaptation_indices[np.arange(shots*ways) * 2] = True\n",
        "    #print(adaptation_indices)\n",
        "    evaluation_indices = torch.from_numpy(~adaptation_indices)\n",
        "    adaptation_indices = torch.from_numpy(adaptation_indices)\n",
        "    adaptation_data, adaptation_labels = data[adaptation_indices], labels[adaptation_indices]\n",
        "    evaluation_data, evaluation_labels = data[evaluation_indices], labels[evaluation_indices]\n",
        "\n",
        "    # Adapt the model\n",
        "    for step in range(adaptation_steps):\n",
        "      adaptation_data = adaptation_data.to(torch.float)\n",
        "      # print(adaptation_labels.shape)\n",
        "      train_error = loss(learner(adaptation_data), adaptation_labels)\n",
        "      learner.adapt(train_error)\n",
        "\n",
        "    # Evaluate the adapted model\n",
        "    predictions = learner(evaluation_data.to(torch.float))\n",
        "    valid_error = loss(predictions, evaluation_labels)\n",
        "    valid_accuracy = accuracy(predictions, evaluation_labels)\n",
        "    return valid_error, valid_accuracy\n",
        "\n",
        "\n",
        "def maml_train(trainset, devset, testset,\n",
        "              base_model,\n",
        "              MAML_path,\n",
        "              ways=2,\n",
        "              shots=10,\n",
        "              meta_lr=0.0001,#0.003\n",
        "              fast_lr=0.001,#0.5\n",
        "              meta_batch_size=32,#32\n",
        "              adaptation_steps=5,\n",
        "              num_iterations=100,#60000\n",
        "              cuda=True,\n",
        "              seed=42,\n",
        "              ):\n",
        "\n",
        "    random.seed(seed)\n",
        "    np.random.seed(seed)\n",
        "    torch.manual_seed(seed)\n",
        "    device = torch.device('cpu')\n",
        "\n",
        "    if cuda:\n",
        "      torch.cuda.manual_seed(seed)\n",
        "      device = torch.device('cuda')\n",
        "\n",
        "\n",
        "    epoch_len = meta_batch_size\n",
        "    train_taskloader = DataLoader(trainset,\n",
        "                                  batch_sampler=NShotTaskSampler(trainset, epoch_len, n=2*shots,\n",
        "                                                                  k=ways, q=0,\n",
        "                                                                  num_tasks=1),\n",
        "                                  num_workers=1\n",
        "    )\n",
        "    dev_taskloader = DataLoader(devset,\n",
        "                                batch_sampler=NShotTaskSampler(devset, epoch_len, n=0,\n",
        "                                                                k=ways, q=2*shots,\n",
        "                                                                num_tasks=1),\n",
        "                                num_workers=1\n",
        "    )\n",
        "    test_taskloader = DataLoader(testset,\n",
        "                                batch_sampler=NShotTaskSampler(testset, epoch_len, n=0,\n",
        "                                                                k=ways, q=2*shots,\n",
        "                                                                num_tasks=1),\n",
        "                                num_workers=1\n",
        "    )\n",
        "\n",
        "    # Create model\n",
        "    # model = l2l.vision.models.CNN4(output_size=ways, hidden_size=128, channels=3, embedding_size=2048) #l2l.vision.models.OmniglotFC(128 * 128, ways)#CIFAR10Model()\n",
        "    # model = l2l.vision.models.WRN28(output_size=ways, hidden_size=128)\n",
        "    # model = CIFAR10Model()\n",
        "    # model = ConvNetBinaryClassification()\n",
        "    # model  = VGG11BinaryClassification()\n",
        "    model = base_model\n",
        "    # model  = VGG16Simple()\n",
        "\n",
        "    model.to(device)\n",
        "    maml = l2l.algorithms.MAML(model, lr=fast_lr, first_order=False, allow_nograd=True)\n",
        "    opt = optim.Adam(filter(lambda p: p.requires_grad, maml.parameters()), meta_lr) #optim.Adam(maml.parameters(), meta_lr)\n",
        "    loss = nn.CrossEntropyLoss(reduction='mean')\n",
        "\n",
        "    best_valid_loss = float('inf')\n",
        "    best_valid_acc = 0\n",
        "    for iteration in range(num_iterations):\n",
        "        opt.zero_grad()\n",
        "        meta_train_error = 0.0\n",
        "        meta_train_accuracy = 0.0\n",
        "        meta_valid_error = 0.0\n",
        "        meta_valid_accuracy = 0.0\n",
        "        for train_batch, val_batch in zip(train_taskloader, dev_taskloader): # epoch_len     #range(meta_batch_size):\n",
        "            # Compute meta-training loss\n",
        "            learner = maml.clone()\n",
        "\n",
        "            evaluation_error, evaluation_accuracy = fast_adapt(train_batch,\n",
        "                                                                learner,\n",
        "                                                                loss,\n",
        "                                                                adaptation_steps,\n",
        "                                                                shots,\n",
        "                                                                ways,\n",
        "                                                                device)\n",
        "\n",
        "            evaluation_error.backward()\n",
        "            meta_train_error += evaluation_error.item()\n",
        "            meta_train_accuracy += evaluation_accuracy.item()\n",
        "\n",
        "            # Compute meta-validation loss\n",
        "            learner = maml.clone()\n",
        "\n",
        "            evaluation_error, evaluation_accuracy = fast_adapt(val_batch,\n",
        "                                                               learner,\n",
        "                                                               loss,\n",
        "                                                               adaptation_steps,\n",
        "                                                               shots,\n",
        "                                                               ways,\n",
        "                                                               device)\n",
        "            meta_valid_error += evaluation_error.item()\n",
        "            meta_valid_accuracy += evaluation_accuracy.item()\n",
        "\n",
        "            if meta_valid_accuracy > best_valid_acc: #meta_valid_error < best_valid_loss:\n",
        "              best_valid_acc = meta_valid_accuracy\n",
        "              torch.save(learner, MAML_path)\n",
        "\n",
        "        # Print some metrics\n",
        "        # if (iteration+1) % 5 == 0:\n",
        "        print('\\n')\n",
        "        print('Iteration', iteration)\n",
        "        print('Meta Train Error', meta_train_error / meta_batch_size)\n",
        "        print('Meta Train Accuracy', meta_train_accuracy / meta_batch_size)\n",
        "        print('Meta Valid Error', meta_valid_error / meta_batch_size)\n",
        "        print('Meta Valid Accuracy', meta_valid_accuracy / meta_batch_size)\n",
        "\n",
        "        # Average the accumulated gradients and optimize\n",
        "        for p in maml.parameters():\n",
        "          if p.requires_grad:\n",
        "            p.grad.data.mul_(1.0 / meta_batch_size)\n",
        "        opt.step()\n",
        "\n",
        "    meta_test_error = 0.0\n",
        "    meta_test_accuracy = 0.0\n",
        "    for test_batch in test_taskloader:\n",
        "        # Compute meta-testing loss\n",
        "        learner = maml.clone()\n",
        "\n",
        "        evaluation_error, evaluation_accuracy = fast_adapt(test_batch,\n",
        "                                                           learner,\n",
        "                                                           loss,\n",
        "                                                           adaptation_steps,\n",
        "                                                           shots,\n",
        "                                                           ways,\n",
        "                                                           device)\n",
        "        meta_test_error += evaluation_error.item()\n",
        "        meta_test_accuracy += evaluation_accuracy.item()\n",
        "    print('Meta Test Error', meta_test_error / meta_batch_size)\n",
        "    print('Meta Test Accuracy', meta_test_accuracy / meta_batch_size)"
      ],
      "metadata": {
        "id": "OLqFPY1RN46U",
        "colab": {
          "base_uri": "https://localhost:8080/"
        },
        "outputId": "2ce4bd0f-65bd-411b-d869-4ae542a8a87d"
      },
      "execution_count": null,
      "outputs": [
        {
          "output_type": "stream",
          "name": "stderr",
          "text": [
            "/usr/local/lib/python3.10/dist-packages/ipykernel/ipkernel.py:283: DeprecationWarning: `should_run_async` will not call `transform_cell` automatically in the future. Please pass the result to `transformed_cell` argument and any exception that happen during thetransform in `preprocessing_exc_tuple` in IPython 7.17 and above.\n",
            "  and should_run_async(code)\n"
          ]
        }
      ]
    },
    {
      "cell_type": "markdown",
      "metadata": {
        "id": "jvrTCtN1ux_p"
      },
      "source": [
        "# **MAML on Head Target**"
      ]
    },
    {
      "cell_type": "code",
      "execution_count": null,
      "metadata": {
        "id": "-yPpa4SdbMrw",
        "colab": {
          "base_uri": "https://localhost:8080/",
          "height": 439
        },
        "outputId": "22a6245f-e36a-4c06-f906-7ff2784c606a"
      },
      "outputs": [
        {
          "output_type": "stream",
          "name": "stdout",
          "text": [
            "x_train.shape:  (1000, 3, 128, 128)\n",
            "x_dev.shape:  (240, 3, 128, 128)\n",
            "x_test.shape:  (300, 3, 128, 128)\n",
            "y_acrosome_train.shape:  (1000,)\n",
            "----------------------------------------\n",
            "each image size:  torch.Size([3, 224, 224])\n",
            "each label size:  torch.Size([])\n"
          ]
        },
        {
          "output_type": "stream",
          "name": "stderr",
          "text": [
            "WARNING:matplotlib.image:Clipping input data to the valid range for imshow with RGB data ([0..1] for floats or [0..255] for integers).\n",
            "WARNING:matplotlib.image:Clipping input data to the valid range for imshow with RGB data ([0..1] for floats or [0..255] for integers).\n",
            "WARNING:matplotlib.image:Clipping input data to the valid range for imshow with RGB data ([0..1] for floats or [0..255] for integers).\n",
            "WARNING:matplotlib.image:Clipping input data to the valid range for imshow with RGB data ([0..1] for floats or [0..255] for integers).\n",
            "WARNING:matplotlib.image:Clipping input data to the valid range for imshow with RGB data ([0..1] for floats or [0..255] for integers).\n"
          ]
        },
        {
          "output_type": "display_data",
          "data": {
            "text/plain": [
              "<Figure size 2000x2000 with 5 Axes>"
            ],
            "image/png": "[encoded data removed]"
          },
          "metadata": {}
        }
      ],
      "source": [
        "trainset, devset, testset = constructDataset(data_shape=128, target_type='head')\n",
        "print('--'*20 + '\\n' + 'each image size: ', trainset.imgs[0].shape)\n",
        "print('each label size: ', trainset.img_labels[0].shape)\n",
        "\n",
        "idx_to_labels = {0: \"Normal Head\", 1: \"Abnormal Head\"}\n",
        "show(trainset, labels=idx_to_labels)"
      ]
    },
    {
      "cell_type": "code",
      "execution_count": null,
      "metadata": {
        "id": "yIP0GnvKimPe"
      },
      "outputs": [],
      "source": [
        "class CNN4PLUS(nn.Module):\n",
        "    def __init__(self):\n",
        "        super().__init__()\n",
        "        self.conv1 = nn.Conv2d(1, 128, kernel_size=(3,3), stride=1, padding=1)\n",
        "        self.act1 = nn.ReLU()\n",
        "        # self.drop1 = nn.Dropout(0.3)\n",
        "\n",
        "        self.conv2 = nn.Conv2d(128, 128, kernel_size=(3,3), stride=1, padding=1)\n",
        "        self.act2 = nn.ReLU()\n",
        "        self.conv3 = nn.Conv2d(128, 128, kernel_size=(3,3), stride=1, padding=1)\n",
        "        self.act3 = nn.ReLU()\n",
        "        self.pool1 = nn.MaxPool2d(kernel_size=(2, 2))\n",
        "        self.bn1 = nn.BatchNorm2d(128)\n",
        "\n",
        "        self.conv4 = nn.Conv2d(128, 128, kernel_size=(3,3), stride=1, padding=1)\n",
        "        self.act4 = nn.ReLU()\n",
        "        self.conv5 = nn.Conv2d(128, 128, kernel_size=(3,3), stride=1, padding=1)\n",
        "        self.act5 = nn.ReLU()\n",
        "        self.pool2 = nn.MaxPool2d(kernel_size=(2, 2))\n",
        "        self.bn2 = nn.BatchNorm2d(128)\n",
        "\n",
        "        self.conv6 = nn.Conv2d(128, 128, kernel_size=(3,3), stride=1, padding=1)\n",
        "        self.act6 = nn.ReLU()\n",
        "        self.conv7 = nn.Conv2d(128, 128, kernel_size=(3,3), stride=1, padding=1)\n",
        "        self.act7 = nn.ReLU()\n",
        "        self.pool3 = nn.MaxPool2d(kernel_size=(2, 2))\n",
        "        self.bn3 = nn.BatchNorm2d(128)\n",
        "\n",
        "\n",
        "        self.flat = nn.Flatten()\n",
        "\n",
        "        self.fc3 = nn.Linear(32768, 256) # 131072 6272\n",
        "        self.actf = nn.ReLU()\n",
        "        # self.drop3 = nn.Dropout(0.5)\n",
        "\n",
        "        #self.fc4 = nn.Linear(256, 64)\n",
        "\n",
        "        self.fc5 = nn.Linear(256, 2)\n",
        "        self.actf2 = nn.Sigmoid()\n",
        "\n",
        "    def forward(self, x):\n",
        "        # input 1x128x128, output 32x32x32\n",
        "        x = self.act1(self.conv1(x))\n",
        "        # x = self.drop1(x)\n",
        "        # x = self.pool(x)\n",
        "        # input 32x32x32, output 32x32x32\n",
        "        x = self.act2(self.conv2(x))\n",
        "        # input 32x32x32, output 32x16x16\n",
        "        # x = self.pool(x)\n",
        "\n",
        "        x = self.act3(self.conv3(x))\n",
        "        x = self.pool1(x)\n",
        "        x = self.bn1(x)\n",
        "        x = self.act4(self.conv4(x))\n",
        "        x = self.act5(self.conv5(x))\n",
        "        # x = self.pool2(x)\n",
        "        x = self.bn2(x)\n",
        "        x = self.act6(self.conv6(x))\n",
        "        x = self.act7(self.conv7(x))\n",
        "        # x = self.pool3(x)\n",
        "        x = self.bn3(x)\n",
        "        # input 32x32x32, output 32x16x16\n",
        "        #x = self.pool3(x)\n",
        "        # input 32x16x16, output 8192\n",
        "        x = self.flat(x)\n",
        "        # input 8192, output 512\n",
        "        x = self.actf(self.fc3(x))\n",
        "        # x = self.drop3(x)\n",
        "        # input 512, output 10\n",
        "        #x = self.fc4(x)\n",
        "\n",
        "        x = self.fc5(x)\n",
        "        # x = self.act5(x)\n",
        "        return x"
      ]
    },
    {
      "cell_type": "code",
      "execution_count": null,
      "metadata": {
        "id": "xUiPPZlW4Vhp"
      },
      "outputs": [],
      "source": [
        "class VGG16BinaryClassification(nn.Module):\n",
        "    def __init__(self):\n",
        "        super().__init__()\n",
        "\n",
        "        self.model = torchvision.models.vgg16(pretrained=True)\n",
        "        self.model.classifier[6] = nn.Linear(4096, 2)\n",
        "\n",
        "        unfreeze = ['classifier']\n",
        "        for layer_name, layer in self.model.named_parameters():\n",
        "            for name in unfreeze:\n",
        "                if name in layer_name:\n",
        "                    layer.requires_grad = True\n",
        "                    break\n",
        "                else:\n",
        "                    layer.requires_grad = False\n",
        "\n",
        "    def forward(self, x):\n",
        "        return self.model(x)\n",
        "\n",
        "\n",
        "class VGG19BinaryClassification(nn.Module):\n",
        "    def __init__(self,freeze=False):\n",
        "        super().__init__()\n",
        "\n",
        "        self.model = models.vgg19_bn(pretrained=False)\n",
        "        self.model.load_state_dict(torch.load(path_vgg19_bn))\n",
        "        self.model.classifier[6] = nn.Linear(4096, 2)\n",
        "        if freeze:\n",
        "          unfreeze = ['classifier']\n",
        "          for layer_name, layer in self.model.named_parameters():\n",
        "              for name in unfreeze:\n",
        "                  if name in layer_name:\n",
        "                      layer.requires_grad = True\n",
        "                      break\n",
        "                  else:\n",
        "                      layer.requires_grad = False\n",
        "\n",
        "    def forward(self, x):\n",
        "        return self.model(x)\n",
        "class VGG19BinaryClassification_custom1(nn.Module):\n",
        "    def __init__(self):\n",
        "        super().__init__()\n",
        "\n",
        "        self.model = torchvision.models.vgg19_bn(pretrained=True)\n",
        "        self.model.avgpool = nn.Sequential(\n",
        "            nn.Conv2d(512, 512, kernel_size=(3, 3), stride=(1, 1), padding=(1, 1)),\n",
        "            nn.BatchNorm2d(512, eps=1e-05, momentum=0.1, affine=True, track_running_stats=True),\n",
        "            nn.ReLU(inplace=True),\n",
        "            nn.Conv2d(512, 512, kernel_size=(3, 3), stride=(1, 1), padding=(1, 1)),\n",
        "            nn.BatchNorm2d(512, eps=1e-05, momentum=0.1, affine=True, track_running_stats=True),\n",
        "            nn.ReLU(inplace=True),\n",
        "            nn.Conv2d(512, 512, kernel_size=(3, 3), stride=(1, 1), padding=(1, 1)),\n",
        "            nn.BatchNorm2d(512, eps=1e-05, momentum=0.1, affine=True, track_running_stats=True),\n",
        "            nn.ReLU(inplace=True),\n",
        "            nn.Conv2d(512, 512, kernel_size=(3, 3), stride=(1, 1), padding=(1, 1)),\n",
        "            nn.BatchNorm2d(512, eps=1e-05, momentum=0.1, affine=True, track_running_stats=True),\n",
        "            nn.ReLU(inplace=True),\n",
        "            nn.MaxPool2d(kernel_size=2, stride=2, padding=0, dilation=1, ceil_mode=False),\n",
        "            nn.AdaptiveAvgPool2d(output_size=(7, 7))\n",
        "        )\n",
        "        num_ftrs = self.model.classifier[0].in_features\n",
        "        # self.model.classifier = nn.Sequential(\n",
        "        #    # nn.Conv2d(1024, 1024, kernel_size=(3, 3), stride=(1, 1), padding=(1, 1)),\n",
        "        #    # nn.ReLU(inplace=True),\n",
        "        #     nn.Linear(in_features=25088, out_features=4096, bias=True),\n",
        "        #     nn.ReLU(inplace=True),\n",
        "        #     nn.Dropout(p=0.5, inplace=False),\n",
        "        #     nn.Linear(in_features=4096, out_features=4096, bias=True),\n",
        "        #     nn.ReLU(inplace=True),\n",
        "        #     nn.Dropout(p=0.5, inplace=False),\n",
        "        #     nn.Linear(in_features=4096, out_features=2, bias=True)\n",
        "        # )\n",
        "        self.model.classifier[6] = nn.Linear(4096, 2)\n",
        "        unfreeze = ['classifier','avgpool']\n",
        "        for layer_name, layer in self.model.named_parameters():\n",
        "            for name in unfreeze:\n",
        "                if name in layer_name:\n",
        "                    layer.requires_grad = True\n",
        "                    break\n",
        "                else:\n",
        "                    layer.requires_grad = False\n",
        "\n",
        "    def forward(self, x):\n",
        "        return self.model(x)\n",
        "\n",
        "class VGG11BinaryClassification(nn.Module):\n",
        "    def __init__(self):\n",
        "        super().__init__()\n",
        "\n",
        "        self.model = torchvision.models.vgg11_bn(pretrained=True)\n",
        "        # print(self.model.features)\n",
        "        self.model.classifier[6] = nn.Linear(4096, 2)\n",
        "\n",
        "        unfreeze = ['classifier']\n",
        "        for layer_name, layer in self.model.named_parameters():\n",
        "            for name in unfreeze:\n",
        "                if name in layer_name:\n",
        "                    layer.requires_grad = True\n",
        "                    break\n",
        "                else:\n",
        "                    layer.requires_grad = False\n",
        "\n",
        "    def forward(self, x):\n",
        "        return self.model(x)"
      ]
    },
    {
      "cell_type": "code",
      "source": [
        "# model = VGG19BinaryClassification_custom1()\n",
        "# model"
      ],
      "metadata": {
        "id": "mkxoSInGzpFf"
      },
      "execution_count": null,
      "outputs": []
    },
    {
      "cell_type": "code",
      "execution_count": null,
      "metadata": {
        "id": "MLlyAKgGJplz"
      },
      "outputs": [],
      "source": [
        "class VGG16Simple(nn.Module):\n",
        "  def __init__(self):\n",
        "    super().__init__()\n",
        "\n",
        "    self.layers = nn.Sequential(\n",
        "      nn.Conv2d(3, 64, kernel_size=(3, 3), stride=(1, 1), padding=(1, 1)),\n",
        "      nn.ReLU(inplace=True),\n",
        "      nn.Conv2d(64, 64, kernel_size=(3, 3), stride=(1, 1), padding=(1, 1)),\n",
        "      nn.ReLU(inplace=True),\n",
        "      nn.MaxPool2d(kernel_size=2, stride=2, padding=0, dilation=1, ceil_mode=False),\n",
        "      nn.Conv2d(64, 128, kernel_size=(3, 3), stride=(1, 1), padding=(1, 1)),\n",
        "      nn.ReLU(inplace=True),\n",
        "      nn.Conv2d(128, 128, kernel_size=(3, 3), stride=(1, 1), padding=(1, 1)),\n",
        "      nn.ReLU(inplace=True),\n",
        "      nn.MaxPool2d(kernel_size=2, stride=2, padding=0, dilation=1, ceil_mode=False),\n",
        "      nn.Conv2d(128, 256, kernel_size=(3, 3), stride=(1, 1), padding=(1, 1)),\n",
        "      nn.ReLU(inplace=True),\n",
        "      nn.Conv2d(256, 256, kernel_size=(3, 3), stride=(1, 1), padding=(1, 1)),\n",
        "      nn.ReLU(inplace=True),\n",
        "      nn.MaxPool2d(kernel_size=2, stride=2, padding=0, dilation=1, ceil_mode=False),\n",
        "      nn.Conv2d(256, 256, kernel_size=(3, 3), stride=(1, 1), padding=(1, 1)),\n",
        "      nn.ReLU(inplace=True),\n",
        "      nn.MaxPool2d(kernel_size=2, stride=2, padding=0, dilation=1, ceil_mode=False)\n",
        "    )\n",
        "\n",
        "    self.avgpool = nn.Flatten()\n",
        "\n",
        "    self.classifier = nn.Sequential(\n",
        "      nn.Linear(in_features=4096, out_features=1024, bias=True),\n",
        "      nn.ReLU(inplace=True),\n",
        "      nn.Dropout(p=0.5, inplace=False),\n",
        "      nn.Linear(in_features=1024, out_features=256, bias=True),\n",
        "      nn.ReLU(inplace=True),\n",
        "      nn.Dropout(p=0.2, inplace=False),\n",
        "      nn.Linear(in_features=256, out_features=2, bias=True)\n",
        "    )\n",
        "\n",
        "  def forward(self, x):\n",
        "    # forward pass\n",
        "    x = self.layers(x) #torch.sigmoid(self.classifier(self.avgpool(self.layers(x))))\n",
        "    return x\n"
      ]
    },
    {
      "cell_type": "markdown",
      "metadata": {
        "id": "y2XytWC6BjL1"
      },
      "source": [
        "**On MHSMA dataset**"
      ]
    },
    {
      "cell_type": "code",
      "execution_count": null,
      "metadata": {
        "id": "q1p_LgSIuxM1"
      },
      "outputs": [],
      "source": [
        "#MAML_path = \"/content/drive/MyDrive/AI Projects/Meta-learning vision project/MAML.pt\"\n",
        "#MAML_path = \"/content/drive/MyDrive/AI Projects/mhsma-dataset/MAML.pt\"\n",
        "\n",
        "MAML_path = \"/home/mokaddar/Documents/notebook/faryar/Meta-Learning-for-Human-Sperm-Abnormality-Detection/models/MAML_128_vgg19_.pt\""
      ]
    },
    {
      "cell_type": "code",
      "source": [
        "maml_train(trainset, devset, testset, MAML_path=MAML_path, meta_lr=0.0003, fast_lr=0.01, adaptation_steps=5, num_iterations=100, base_model=VGG19BinaryClassification())"
      ],
      "metadata": {
        "id": "VQkIySosZVDc",
        "colab": {
          "base_uri": "https://localhost:8080/"
        },
        "outputId": "5a78a458-d4cb-4bf9-81c3-25cf595860f3"
      },
      "execution_count": null,
      "outputs": [
        {
          "metadata": {
            "tags": null
          },
          "name": "stderr",
          "output_type": "stream",
          "text": [
            "/usr/local/lib/python3.10/dist-packages/torchvision/models/_utils.py:208: UserWarning: The parameter 'pretrained' is deprecated since 0.13 and may be removed in the future, please use 'weights' instead.\n",
            "  warnings.warn(\n",
            "/usr/local/lib/python3.10/dist-packages/torchvision/models/_utils.py:223: UserWarning: Arguments other than a weight enum or `None` for 'weights' are deprecated since 0.13 and may be removed in the future. The current behavior is equivalent to passing `weights=VGG19_Weights.IMAGENET1K_V1`. You can also use `weights=VGG19_Weights.DEFAULT` to get the most up-to-date weights.\n",
            "  warnings.warn(msg)\n",
            "Downloading: \"https://download.pytorch.org/models/vgg19-dcbb9e9d.pth\" to /root/.cache/torch/hub/checkpoints/vgg19-dcbb9e9d.pth\n",
            "100%|██████████| 548M/548M [00:06<00:00, 89.4MB/s]\n"
          ]
        },
        {
          "metadata": {
            "tags": null
          },
          "name": "stdout",
          "output_type": "stream",
          "text": [
            "\n",
            "\n",
            "Iteration 0\n",
            "Meta Train Error 1.0342827662825584\n",
            "Meta Train Accuracy 0.5000000009313226\n",
            "Meta Valid Error 1.0418354626744986\n",
            "Meta Valid Accuracy 0.5\n",
            "\n",
            "\n",
            "Iteration 1\n",
            "Meta Train Error 0.7111051250249147\n",
            "Meta Train Accuracy 0.5406250106170774\n",
            "Meta Valid Error 0.7350324802100658\n",
            "Meta Valid Accuracy 0.5125000132247806\n",
            "\n",
            "\n",
            "Iteration 2\n",
            "Meta Train Error 0.6988417990505695\n",
            "Meta Train Accuracy 0.5546875121071935\n",
            "Meta Valid Error 0.7078053150326014\n",
            "Meta Valid Accuracy 0.5140625108033419\n",
            "\n",
            "\n",
            "Iteration 3\n",
            "Meta Train Error 0.6803312450647354\n",
            "Meta Train Accuracy 0.5906250085681677\n",
            "Meta Valid Error 0.6949827298521996\n",
            "Meta Valid Accuracy 0.530468761920929\n",
            "\n",
            "\n",
            "Iteration 4\n",
            "Meta Train Error 0.687734954059124\n",
            "Meta Train Accuracy 0.5593750094994903\n",
            "Meta Valid Error 0.693681463599205\n",
            "Meta Valid Accuracy 0.528125012293458\n",
            "\n",
            "\n",
            "Iteration 5\n",
            "Meta Train Error 0.6771835144609213\n",
            "Meta Train Accuracy 0.5742187649011612\n",
            "Meta Valid Error 0.6912569031119347\n",
            "Meta Valid Accuracy 0.5359375048428774\n",
            "\n",
            "\n",
            "Iteration 6\n",
            "Meta Train Error 0.6565064117312431\n",
            "Meta Train Accuracy 0.6054687602445483\n",
            "Meta Valid Error 0.691621532663703\n",
            "Meta Valid Accuracy 0.5367187634110451\n",
            "\n",
            "\n",
            "Iteration 7\n",
            "Meta Train Error 0.6629254072904587\n",
            "Meta Train Accuracy 0.5914062643423676\n",
            "Meta Valid Error 0.6882269736379385\n",
            "Meta Valid Accuracy 0.5562500078231096\n",
            "\n",
            "\n",
            "Iteration 8\n",
            "Meta Train Error 0.68354382365942\n",
            "Meta Train Accuracy 0.5414062635973096\n",
            "Meta Valid Error 0.6857397798448801\n",
            "Meta Valid Accuracy 0.5445312634110451\n",
            "\n",
            "\n",
            "Iteration 9\n",
            "Meta Train Error 0.6587534938007593\n",
            "Meta Train Accuracy 0.6085937665775418\n",
            "Meta Valid Error 0.6917682010680437\n",
            "Meta Valid Accuracy 0.5468750055879354\n",
            "\n",
            "\n",
            "Iteration 10\n",
            "Meta Train Error 0.6628112178295851\n",
            "Meta Train Accuracy 0.5921875135973096\n",
            "Meta Valid Error 0.6973916888237\n",
            "Meta Valid Accuracy 0.5351562621071935\n",
            "\n",
            "\n",
            "Iteration 11\n",
            "Meta Train Error 0.6634784303605556\n",
            "Meta Train Accuracy 0.5953125124797225\n",
            "Meta Valid Error 0.6794833391904831\n",
            "Meta Valid Accuracy 0.578906262293458\n",
            "\n",
            "\n",
            "Iteration 12\n",
            "Meta Train Error 0.6523386016488075\n",
            "Meta Train Accuracy 0.6171875074505806\n",
            "Meta Valid Error 0.6929846480488777\n",
            "Meta Valid Accuracy 0.5484375087544322\n",
            "\n",
            "\n",
            "Iteration 13\n",
            "Meta Train Error 0.6604497320950031\n",
            "Meta Train Accuracy 0.6148437652736902\n",
            "Meta Valid Error 0.6952992770820856\n",
            "Meta Valid Accuracy 0.5445312624797225\n",
            "\n",
            "\n",
            "Iteration 14\n",
            "Meta Train Error 0.6688842102885246\n",
            "Meta Train Accuracy 0.6171875121071935\n",
            "Meta Valid Error 0.6871965769678354\n",
            "Meta Valid Accuracy 0.547656262293458\n",
            "\n",
            "\n",
            "Iteration 15\n",
            "Meta Train Error 0.6436157058924437\n",
            "Meta Train Accuracy 0.6218750094994903\n",
            "Meta Valid Error 0.6706365533173084\n",
            "Meta Valid Accuracy 0.5765625117346644\n",
            "\n",
            "\n",
            "Iteration 16\n",
            "Meta Train Error 0.6350096333771944\n",
            "Meta Train Accuracy 0.636718763038516\n",
            "Meta Valid Error 0.6877330727875233\n",
            "Meta Valid Accuracy 0.5562500162050128\n",
            "\n",
            "\n",
            "Iteration 17\n",
            "Meta Train Error 0.6475525069981813\n",
            "Meta Train Accuracy 0.6210937611758709\n",
            "Meta Valid Error 0.6832129582762718\n",
            "Meta Valid Accuracy 0.5648437598720193\n",
            "\n",
            "\n",
            "Iteration 18\n",
            "Meta Train Error 0.6578589547425508\n",
            "Meta Train Accuracy 0.6132812574505806\n",
            "Meta Valid Error 0.693881168961525\n",
            "Meta Valid Accuracy 0.5601562624797225\n",
            "\n",
            "\n",
            "Iteration 19\n",
            "Meta Train Error 0.6451150327920914\n",
            "Meta Train Accuracy 0.6164062600582838\n",
            "Meta Valid Error 0.6777983196079731\n",
            "Meta Valid Accuracy 0.5617187581956387\n",
            "\n",
            "\n",
            "Iteration 20\n",
            "Meta Train Error 0.6400731578469276\n",
            "Meta Train Accuracy 0.632812513038516\n",
            "Meta Valid Error 0.6891784705221653\n",
            "Meta Valid Accuracy 0.5671875150874257\n",
            "\n",
            "\n",
            "Iteration 21\n",
            "Meta Train Error 0.625678576529026\n",
            "Meta Train Accuracy 0.6609375132247806\n",
            "Meta Valid Error 0.6784566212445498\n",
            "Meta Valid Accuracy 0.5789062632247806\n",
            "\n",
            "\n",
            "Iteration 22\n",
            "Meta Train Error 0.6313702017068863\n",
            "Meta Train Accuracy 0.637500012293458\n",
            "Meta Valid Error 0.6865139193832874\n",
            "Meta Valid Accuracy 0.5671875057742\n",
            "\n",
            "\n",
            "Iteration 23\n",
            "Meta Train Error 0.6168605554848909\n",
            "Meta Train Accuracy 0.6492187585681677\n",
            "Meta Valid Error 0.6718357000499964\n",
            "Meta Valid Accuracy 0.580468769185245\n",
            "\n",
            "\n",
            "Iteration 24\n",
            "Meta Train Error 0.6212489288300276\n",
            "Meta Train Accuracy 0.6453125150874257\n",
            "Meta Valid Error 0.674348957836628\n",
            "Meta Valid Accuracy 0.5570312617346644\n",
            "\n",
            "\n",
            "Iteration 25\n",
            "Meta Train Error 0.6236292775720358\n",
            "Meta Train Accuracy 0.6492187604308128\n",
            "Meta Valid Error 0.6777021251618862\n",
            "Meta Valid Accuracy 0.5867187594994903\n",
            "\n",
            "\n",
            "Iteration 26\n",
            "Meta Train Error 0.608264097943902\n",
            "Meta Train Accuracy 0.6609375076368451\n",
            "Meta Valid Error 0.6680364180356264\n",
            "Meta Valid Accuracy 0.5828125104308128\n",
            "\n",
            "\n",
            "Iteration 27\n",
            "Meta Train Error 0.6135328840464354\n",
            "Meta Train Accuracy 0.654687506146729\n",
            "Meta Valid Error 0.6830495484173298\n",
            "Meta Valid Accuracy 0.557812511920929\n",
            "\n",
            "\n",
            "Iteration 28\n",
            "Meta Train Error 0.6129552572965622\n",
            "Meta Train Accuracy 0.6632812628522515\n",
            "Meta Valid Error 0.6804036349058151\n",
            "Meta Valid Accuracy 0.5781250102445483\n",
            "\n",
            "\n",
            "Iteration 29\n",
            "Meta Train Error 0.589960197918117\n",
            "Meta Train Accuracy 0.683593763038516\n",
            "Meta Valid Error 0.6857361160218716\n",
            "Meta Valid Accuracy 0.5734375072643161\n",
            "\n",
            "\n",
            "Iteration 30\n",
            "Meta Train Error 0.5900378134101629\n",
            "Meta Train Accuracy 0.6898437598720193\n",
            "Meta Valid Error 0.6755297183990479\n",
            "Meta Valid Accuracy 0.575000012293458\n",
            "\n",
            "\n",
            "Iteration 31\n",
            "Meta Train Error 0.5917590195313096\n",
            "Meta Train Accuracy 0.6828125100582838\n",
            "Meta Valid Error 0.6631002072244883\n",
            "Meta Valid Accuracy 0.6039062635973096\n",
            "\n",
            "\n",
            "Iteration 32\n",
            "Meta Train Error 0.5805390067398548\n",
            "Meta Train Accuracy 0.6875000158324838\n",
            "Meta Valid Error 0.6556270364671946\n",
            "Meta Valid Accuracy 0.6007812703028321\n",
            "\n",
            "\n",
            "Iteration 33\n",
            "Meta Train Error 0.5820082584396005\n",
            "Meta Train Accuracy 0.6820312645286322\n",
            "Meta Valid Error 0.6749823857098818\n",
            "Meta Valid Accuracy 0.5875000134110451\n",
            "\n",
            "\n",
            "Iteration 34\n",
            "Meta Train Error 0.5845012301579118\n",
            "Meta Train Accuracy 0.6929687615483999\n",
            "Meta Valid Error 0.7002063002437353\n",
            "Meta Valid Accuracy 0.5578125091269612\n",
            "\n",
            "\n",
            "Iteration 35\n",
            "Meta Train Error 0.5827112635597587\n",
            "Meta Train Accuracy 0.674218762665987\n",
            "Meta Valid Error 0.6847243551164865\n",
            "Meta Valid Accuracy 0.5804687617346644\n",
            "\n",
            "\n",
            "Iteration 36\n",
            "Meta Train Error 0.5553249251097441\n",
            "Meta Train Accuracy 0.7265625186264515\n",
            "Meta Valid Error 0.6650341656059027\n",
            "Meta Valid Accuracy 0.5914062587544322\n",
            "\n",
            "\n",
            "Iteration 37\n",
            "Meta Train Error 0.5552826309576631\n",
            "Meta Train Accuracy 0.7054687663912773\n",
            "Meta Valid Error 0.6911474149674177\n",
            "Meta Valid Accuracy 0.577343761920929\n",
            "\n",
            "\n",
            "Iteration 38\n",
            "Meta Train Error 0.562059716321528\n",
            "Meta Train Accuracy 0.7125000134110451\n",
            "Meta Valid Error 0.6888871714472771\n",
            "Meta Valid Accuracy 0.574218763038516\n",
            "\n",
            "\n",
            "Iteration 39\n",
            "Meta Train Error 0.5441353786736727\n",
            "Meta Train Accuracy 0.7156250160187483\n",
            "Meta Valid Error 0.6857005544006824\n",
            "Meta Valid Accuracy 0.5828125141561031\n",
            "\n",
            "\n",
            "Iteration 40\n",
            "Meta Train Error 0.5288483947515488\n",
            "Meta Train Accuracy 0.7242187596857548\n",
            "Meta Valid Error 0.6924170758575201\n",
            "Meta Valid Accuracy 0.5812500072643161\n",
            "\n",
            "\n",
            "Iteration 41\n",
            "Meta Train Error 0.538734532892704\n",
            "Meta Train Accuracy 0.7289062608033419\n",
            "Meta Valid Error 0.6839294470846653\n",
            "Meta Valid Accuracy 0.575000012293458\n",
            "\n",
            "\n",
            "Iteration 42\n",
            "Meta Train Error 0.5367708075791597\n",
            "Meta Train Accuracy 0.7320312652736902\n",
            "Meta Valid Error 0.6647612061351538\n",
            "Meta Valid Accuracy 0.5890625128522515\n",
            "\n",
            "\n",
            "Iteration 43\n",
            "Meta Train Error 0.5298439357429743\n",
            "Meta Train Accuracy 0.721093762665987\n",
            "Meta Valid Error 0.6697237603366375\n",
            "Meta Valid Accuracy 0.6000000052154064\n",
            "\n",
            "\n",
            "Iteration 44\n",
            "Meta Train Error 0.522270786575973\n",
            "Meta Train Accuracy 0.7203125115483999\n",
            "Meta Valid Error 0.6748295854777098\n",
            "Meta Valid Accuracy 0.6054687621071935\n",
            "\n",
            "\n",
            "Iteration 45\n",
            "Meta Train Error 0.5303703555837274\n",
            "Meta Train Accuracy 0.7296875081956387\n",
            "Meta Valid Error 0.6769022420048714\n",
            "Meta Valid Accuracy 0.589843756519258\n"
          ]
        }
      ]
    },
    {
      "cell_type": "code",
      "execution_count": null,
      "metadata": {
        "id": "Yv_e7vrgHWv9",
        "colab": {
          "base_uri": "https://localhost:8080/"
        },
        "outputId": "c118d1f5-addc-4e2a-b5f0-58e898bb9aea"
      },
      "outputs": [
        {
          "output_type": "execute_result",
          "data": {
            "text/plain": [
              "MAML(\n",
              "  (module): VGG11BinaryClassification(\n",
              "    (model): VGG(\n",
              "      (features): Sequential(\n",
              "        (0): Conv2d(3, 64, kernel_size=(3, 3), stride=(1, 1), padding=(1, 1))\n",
              "        (1): BatchNorm2d(64, eps=1e-05, momentum=0.1, affine=True, track_running_stats=True)\n",
              "        (2): ReLU(inplace=True)\n",
              "        (3): MaxPool2d(kernel_size=2, stride=2, padding=0, dilation=1, ceil_mode=False)\n",
              "        (4): Conv2d(64, 128, kernel_size=(3, 3), stride=(1, 1), padding=(1, 1))\n",
              "        (5): BatchNorm2d(128, eps=1e-05, momentum=0.1, affine=True, track_running_stats=True)\n",
              "        (6): ReLU(inplace=True)\n",
              "        (7): MaxPool2d(kernel_size=2, stride=2, padding=0, dilation=1, ceil_mode=False)\n",
              "        (8): Conv2d(128, 256, kernel_size=(3, 3), stride=(1, 1), padding=(1, 1))\n",
              "        (9): BatchNorm2d(256, eps=1e-05, momentum=0.1, affine=True, track_running_stats=True)\n",
              "        (10): ReLU(inplace=True)\n",
              "        (11): Conv2d(256, 256, kernel_size=(3, 3), stride=(1, 1), padding=(1, 1))\n",
              "        (12): BatchNorm2d(256, eps=1e-05, momentum=0.1, affine=True, track_running_stats=True)\n",
              "        (13): ReLU(inplace=True)\n",
              "        (14): MaxPool2d(kernel_size=2, stride=2, padding=0, dilation=1, ceil_mode=False)\n",
              "        (15): Conv2d(256, 512, kernel_size=(3, 3), stride=(1, 1), padding=(1, 1))\n",
              "        (16): BatchNorm2d(512, eps=1e-05, momentum=0.1, affine=True, track_running_stats=True)\n",
              "        (17): ReLU(inplace=True)\n",
              "        (18): Conv2d(512, 512, kernel_size=(3, 3), stride=(1, 1), padding=(1, 1))\n",
              "        (19): BatchNorm2d(512, eps=1e-05, momentum=0.1, affine=True, track_running_stats=True)\n",
              "        (20): ReLU(inplace=True)\n",
              "        (21): MaxPool2d(kernel_size=2, stride=2, padding=0, dilation=1, ceil_mode=False)\n",
              "        (22): Conv2d(512, 512, kernel_size=(3, 3), stride=(1, 1), padding=(1, 1))\n",
              "        (23): BatchNorm2d(512, eps=1e-05, momentum=0.1, affine=True, track_running_stats=True)\n",
              "        (24): ReLU(inplace=True)\n",
              "        (25): Conv2d(512, 512, kernel_size=(3, 3), stride=(1, 1), padding=(1, 1))\n",
              "        (26): BatchNorm2d(512, eps=1e-05, momentum=0.1, affine=True, track_running_stats=True)\n",
              "        (27): ReLU(inplace=True)\n",
              "        (28): MaxPool2d(kernel_size=2, stride=2, padding=0, dilation=1, ceil_mode=False)\n",
              "      )\n",
              "      (avgpool): AdaptiveAvgPool2d(output_size=(7, 7))\n",
              "      (classifier): Sequential(\n",
              "        (0): Linear(in_features=25088, out_features=4096, bias=True)\n",
              "        (1): ReLU(inplace=True)\n",
              "        (2): Dropout(p=0.5, inplace=False)\n",
              "        (3): Linear(in_features=4096, out_features=4096, bias=True)\n",
              "        (4): ReLU(inplace=True)\n",
              "        (5): Dropout(p=0.5, inplace=False)\n",
              "        (6): Linear(in_features=4096, out_features=2, bias=True)\n",
              "      )\n",
              "    )\n",
              "  )\n",
              ")"
            ]
          },
          "metadata": {},
          "execution_count": 16
        }
      ],
      "source": [
        "model = torch.load(MAML_path)\n",
        "model.eval()"
      ]
    },
    {
      "cell_type": "markdown",
      "metadata": {
        "id": "Qr65wVaF1V5m"
      },
      "source": [
        "**Result on trainset**"
      ]
    },
    {
      "cell_type": "code",
      "execution_count": null,
      "metadata": {
        "id": "oDbZAx8QIaNx"
      },
      "outputs": [],
      "source": [
        "# # print(testset.imgs.shape)\n",
        "# train_pred = model(trainset.imgs.type(torch.cuda.FloatTensor))\n",
        "# train_pred.shape, accuracy(train_pred, trainset.img_labels.to(torch.device('cuda')))"
      ]
    },
    {
      "cell_type": "markdown",
      "metadata": {
        "id": "xy2l1NgW1csI"
      },
      "source": [
        "**Result on devtset**"
      ]
    },
    {
      "cell_type": "code",
      "execution_count": null,
      "metadata": {
        "id": "WupPe-Wl1csJ",
        "colab": {
          "base_uri": "https://localhost:8080/"
        },
        "outputId": "e8da2f26-d941-4270-f698-f332f69cdc8a"
      },
      "outputs": [
        {
          "output_type": "execute_result",
          "data": {
            "text/plain": [
              "(torch.Size([240, 2]), tensor(0.7125, device='cuda:0'))"
            ]
          },
          "metadata": {},
          "execution_count": 21
        }
      ],
      "source": [
        "# print(testset.imgs.shape)\n",
        "dev_pred = model(devset.imgs.type(torch.cuda.FloatTensor))\n",
        "dev_pred.shape, accuracy(dev_pred, devset.img_labels.to(torch.device('cuda')))"
      ]
    },
    {
      "cell_type": "markdown",
      "metadata": {
        "id": "9I_njziX1eMr"
      },
      "source": [
        "**Result on testset**"
      ]
    },
    {
      "cell_type": "code",
      "execution_count": null,
      "metadata": {
        "id": "Yt4scwNH1eMs",
        "colab": {
          "base_uri": "https://localhost:8080/"
        },
        "outputId": "3ae73298-73aa-43d8-ad1e-a7168145138e"
      },
      "outputs": [
        {
          "output_type": "execute_result",
          "data": {
            "text/plain": [
              "(torch.Size([300, 2]), tensor(0.7033, device='cuda:0'))"
            ]
          },
          "metadata": {},
          "execution_count": 22
        }
      ],
      "source": [
        "# print(testset.imgs.shape)\n",
        "test_pred = model(testset.imgs.type(torch.cuda.FloatTensor))\n",
        "test_pred.shape, accuracy(test_pred, testset.img_labels.to(torch.device('cuda')))"
      ]
    }
  ],
  "metadata": {
    "accelerator": "GPU",
    "colab": {
      "provenance": [],
      "include_colab_link": true
    },
    "kernelspec": {
      "display_name": "Python 3",
      "name": "python3"
    },
    "language_info": {
      "name": "python"
    }
  },
  "nbformat": 4,
  "nbformat_minor": 0
}